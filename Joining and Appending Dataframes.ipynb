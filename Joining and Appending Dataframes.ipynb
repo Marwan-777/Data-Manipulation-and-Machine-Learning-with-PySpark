{
  "cells": [
    {
      "cell_type": "markdown",
      "metadata": {
        "id": "5XYXVmXo4TLO"
      },
      "source": [
        "# Joining and Appending DataFrames in PySpark HW\n",
        "\n",
        "Now it's time to test your knowledge and further engrain the concepts we touched on in the lectures. Let's go ahead and get started.\n",
        "\n",
        "\n",
        "\n",
        "\n",
        "**As always let's start our Spark instance.**"
      ]
    },
    {
      "cell_type": "code",
      "execution_count": null,
      "metadata": {
        "colab": {
          "base_uri": "https://localhost:8080/"
        },
        "id": "ABEik0hjpprU",
        "outputId": "cfd475bd-c02f-44b0-f921-1384fa26980a"
      },
      "outputs": [
        {
          "output_type": "stream",
          "name": "stdout",
          "text": [
            "Mounted at /content/drive\n"
          ]
        }
      ],
      "source": [
        "from google.colab import drive\n",
        "drive.mount('/content/drive')\n",
        "path = 'drive/MyDrive/5. Spark/spark-scripts/section2/Datasets/'"
      ]
    },
    {
      "cell_type": "code",
      "source": [
        "!pip install pyspark\n",
        "import pyspark\n",
        "\n",
        "from pyspark.sql import SparkSession\n",
        "spark = SparkSession.builder.appName('agg').getOrCreate()\n",
        "spark"
      ],
      "metadata": {
        "colab": {
          "base_uri": "https://localhost:8080/",
          "height": 480
        },
        "id": "vH4Nl0Rhq9kK",
        "outputId": "2637b18a-f326-4664-a443-4bdfd2d9062c"
      },
      "execution_count": null,
      "outputs": [
        {
          "output_type": "stream",
          "name": "stdout",
          "text": [
            "Looking in indexes: https://pypi.org/simple, https://us-python.pkg.dev/colab-wheels/public/simple/\n",
            "Collecting pyspark\n",
            "  Downloading pyspark-3.3.1.tar.gz (281.4 MB)\n",
            "\u001b[2K     \u001b[90m━━━━━━━━━━━━━━━━━━━━━━━━━━━━━━━━━━━━━━━\u001b[0m \u001b[32m281.4/281.4 MB\u001b[0m \u001b[31m4.3 MB/s\u001b[0m eta \u001b[36m0:00:00\u001b[0m\n",
            "\u001b[?25h  Preparing metadata (setup.py) ... \u001b[?25l\u001b[?25hdone\n",
            "Collecting py4j==0.10.9.5\n",
            "  Downloading py4j-0.10.9.5-py2.py3-none-any.whl (199 kB)\n",
            "\u001b[2K     \u001b[90m━━━━━━━━━━━━━━━━━━━━━━━━━━━━━━━━━━━━━━\u001b[0m \u001b[32m199.7/199.7 KB\u001b[0m \u001b[31m20.2 MB/s\u001b[0m eta \u001b[36m0:00:00\u001b[0m\n",
            "\u001b[?25hBuilding wheels for collected packages: pyspark\n",
            "  Building wheel for pyspark (setup.py) ... \u001b[?25l\u001b[?25hdone\n",
            "  Created wheel for pyspark: filename=pyspark-3.3.1-py2.py3-none-any.whl size=281845512 sha256=842791cfd3e1b3a884aeaac9282f69a94c7a7305cf1c95a2a90c174c07f5270a\n",
            "  Stored in directory: /root/.cache/pip/wheels/43/dc/11/ec201cd671da62fa9c5cc77078235e40722170ceba231d7598\n",
            "Successfully built pyspark\n",
            "Installing collected packages: py4j, pyspark\n",
            "Successfully installed py4j-0.10.9.5 pyspark-3.3.1\n"
          ]
        },
        {
          "output_type": "execute_result",
          "data": {
            "text/plain": [
              "<pyspark.sql.session.SparkSession at 0x7faed80a0bb0>"
            ],
            "text/html": [
              "\n",
              "            <div>\n",
              "                <p><b>SparkSession - in-memory</b></p>\n",
              "                \n",
              "        <div>\n",
              "            <p><b>SparkContext</b></p>\n",
              "\n",
              "            <p><a href=\"http://c16005531658:4040\">Spark UI</a></p>\n",
              "\n",
              "            <dl>\n",
              "              <dt>Version</dt>\n",
              "                <dd><code>v3.3.1</code></dd>\n",
              "              <dt>Master</dt>\n",
              "                <dd><code>local[*]</code></dd>\n",
              "              <dt>AppName</dt>\n",
              "                <dd><code>agg</code></dd>\n",
              "            </dl>\n",
              "        </div>\n",
              "        \n",
              "            </div>\n",
              "        "
            ]
          },
          "metadata": {},
          "execution_count": 2
        }
      ]
    },
    {
      "cell_type": "code",
      "execution_count": null,
      "metadata": {
        "id": "Ms_GLs-q4TLU"
      },
      "outputs": [],
      "source": []
    },
    {
      "cell_type": "markdown",
      "metadata": {
        "id": "T9aoLNBp4TLX"
      },
      "source": [
        "## Read in the database\n",
        "\n",
        "Let cotinue working with our college courses dataframe to get some more insights and practice what we have learned!Let's read in the whole database using the loop function that we learned about in the lecture to automatically read in all the datasets from the uw-madision-courses folder (there are too many datasets to each one individually."
      ]
    },
    {
      "cell_type": "code",
      "execution_count": null,
      "metadata": {
        "colab": {
          "base_uri": "https://localhost:8080/"
        },
        "id": "knq8Qqzx4TLY",
        "outputId": "98ee27b9-f342-49bd-f260-44a704641157"
      },
      "outputs": [
        {
          "output_type": "stream",
          "name": "stdout",
          "text": [
            "Full list of dfs:\n",
            "['courses', 'course_offerings', 'grade_distributions', 'rooms', 'instructors', 'schedules', 'sections', 'teachings', 'subjects', 'subject_memberships']\n"
          ]
        }
      ],
      "source": [
        "import os\n",
        "loc = 'uw-madison-courses'\n",
        "\n",
        "df_list = []\n",
        "for filename in os.listdir(path + loc):\n",
        "    if filename.endswith(\".csv\"):\n",
        "        filename_list = filename.split(\".\") #separate path from .csv\n",
        "        df_name = filename_list[0]\n",
        "        df = spark.read.csv(path + loc + '/'+ filename,inferSchema=True,header=True)\n",
        "        df.name = df_name\n",
        "        df_list.append(df_name)\n",
        "        exec(df_name + ' = df')\n",
        "        \n",
        "# QA\n",
        "print(\"Full list of dfs:\")\n",
        "print(df_list)"
      ]
    },
    {
      "cell_type": "markdown",
      "metadata": {
        "id": "53djHGBA4TLY"
      },
      "source": [
        "Now check the contents of a few of the dataframses that were read in above."
      ]
    },
    {
      "cell_type": "code",
      "execution_count": null,
      "metadata": {
        "colab": {
          "base_uri": "https://localhost:8080/",
          "height": 424
        },
        "id": "_KV3JWzB4TLZ",
        "outputId": "8fec6585-8053-44fb-86ea-c065077e5a40"
      },
      "outputs": [
        {
          "output_type": "execute_result",
          "data": {
            "text/plain": [
              "                                      uuid  \\\n",
              "0     a3e3e1c3-543d-3bb5-ae65-5f2aec4ad1de   \n",
              "1     c070a84f-648f-351d-9499-5d0e30ad02cc   \n",
              "2     e6b4b7ae-0e0b-3aa5-9d77-7fcd90c9cfa3   \n",
              "3     8f63bde1-ff7f-3fe7-9901-862908bf134c   \n",
              "4     f3541888-584a-3923-9ce7-6341ff3d84a1   \n",
              "...                                    ...   \n",
              "9301  4a7f3d9d-f2e5-3df2-8dee-2c2d02ed9098   \n",
              "9302  1220244c-2bbf-3169-8eb0-6a2da36f40f6   \n",
              "9303  516f637c-a244-3df0-ba3f-f11ce650543d   \n",
              "9304  fbe0838f-9469-3d83-ad85-91ba5aabd1a3   \n",
              "9305  1b17abd5-39f9-3a2c-8eda-a88bf1871221   \n",
              "\n",
              "                                                   name  number  \n",
              "0                         Cooperative Education Program       1  \n",
              "1     Cooperative Education/Co-op in Life Sciences C...       1  \n",
              "2                         Cooperative Education Program       1  \n",
              "3                            Workshop in Dance Activity       1  \n",
              "4     Cooperative Education/Co-op in Agricultural & ...       1  \n",
              "...                                                 ...     ...  \n",
              "9301                              Conservation Planning     972  \n",
              "9302  Optimizing Value, Quality and Safety in Health...     973  \n",
              "9303       Patient Education as a Strategy for Advocacy     974  \n",
              "9304  Multidisciplinary Approaches to Colon Cancer P...     975  \n",
              "9305                                  Independent Study     998  \n",
              "\n",
              "[9306 rows x 3 columns]"
            ],
            "text/html": [
              "\n",
              "  <div id=\"df-0de5c675-853e-4105-a387-937b763c14b0\">\n",
              "    <div class=\"colab-df-container\">\n",
              "      <div>\n",
              "<style scoped>\n",
              "    .dataframe tbody tr th:only-of-type {\n",
              "        vertical-align: middle;\n",
              "    }\n",
              "\n",
              "    .dataframe tbody tr th {\n",
              "        vertical-align: top;\n",
              "    }\n",
              "\n",
              "    .dataframe thead th {\n",
              "        text-align: right;\n",
              "    }\n",
              "</style>\n",
              "<table border=\"1\" class=\"dataframe\">\n",
              "  <thead>\n",
              "    <tr style=\"text-align: right;\">\n",
              "      <th></th>\n",
              "      <th>uuid</th>\n",
              "      <th>name</th>\n",
              "      <th>number</th>\n",
              "    </tr>\n",
              "  </thead>\n",
              "  <tbody>\n",
              "    <tr>\n",
              "      <th>0</th>\n",
              "      <td>a3e3e1c3-543d-3bb5-ae65-5f2aec4ad1de</td>\n",
              "      <td>Cooperative Education Program</td>\n",
              "      <td>1</td>\n",
              "    </tr>\n",
              "    <tr>\n",
              "      <th>1</th>\n",
              "      <td>c070a84f-648f-351d-9499-5d0e30ad02cc</td>\n",
              "      <td>Cooperative Education/Co-op in Life Sciences C...</td>\n",
              "      <td>1</td>\n",
              "    </tr>\n",
              "    <tr>\n",
              "      <th>2</th>\n",
              "      <td>e6b4b7ae-0e0b-3aa5-9d77-7fcd90c9cfa3</td>\n",
              "      <td>Cooperative Education Program</td>\n",
              "      <td>1</td>\n",
              "    </tr>\n",
              "    <tr>\n",
              "      <th>3</th>\n",
              "      <td>8f63bde1-ff7f-3fe7-9901-862908bf134c</td>\n",
              "      <td>Workshop in Dance Activity</td>\n",
              "      <td>1</td>\n",
              "    </tr>\n",
              "    <tr>\n",
              "      <th>4</th>\n",
              "      <td>f3541888-584a-3923-9ce7-6341ff3d84a1</td>\n",
              "      <td>Cooperative Education/Co-op in Agricultural &amp; ...</td>\n",
              "      <td>1</td>\n",
              "    </tr>\n",
              "    <tr>\n",
              "      <th>...</th>\n",
              "      <td>...</td>\n",
              "      <td>...</td>\n",
              "      <td>...</td>\n",
              "    </tr>\n",
              "    <tr>\n",
              "      <th>9301</th>\n",
              "      <td>4a7f3d9d-f2e5-3df2-8dee-2c2d02ed9098</td>\n",
              "      <td>Conservation Planning</td>\n",
              "      <td>972</td>\n",
              "    </tr>\n",
              "    <tr>\n",
              "      <th>9302</th>\n",
              "      <td>1220244c-2bbf-3169-8eb0-6a2da36f40f6</td>\n",
              "      <td>Optimizing Value, Quality and Safety in Health...</td>\n",
              "      <td>973</td>\n",
              "    </tr>\n",
              "    <tr>\n",
              "      <th>9303</th>\n",
              "      <td>516f637c-a244-3df0-ba3f-f11ce650543d</td>\n",
              "      <td>Patient Education as a Strategy for Advocacy</td>\n",
              "      <td>974</td>\n",
              "    </tr>\n",
              "    <tr>\n",
              "      <th>9304</th>\n",
              "      <td>fbe0838f-9469-3d83-ad85-91ba5aabd1a3</td>\n",
              "      <td>Multidisciplinary Approaches to Colon Cancer P...</td>\n",
              "      <td>975</td>\n",
              "    </tr>\n",
              "    <tr>\n",
              "      <th>9305</th>\n",
              "      <td>1b17abd5-39f9-3a2c-8eda-a88bf1871221</td>\n",
              "      <td>Independent Study</td>\n",
              "      <td>998</td>\n",
              "    </tr>\n",
              "  </tbody>\n",
              "</table>\n",
              "<p>9306 rows × 3 columns</p>\n",
              "</div>\n",
              "      <button class=\"colab-df-convert\" onclick=\"convertToInteractive('df-0de5c675-853e-4105-a387-937b763c14b0')\"\n",
              "              title=\"Convert this dataframe to an interactive table.\"\n",
              "              style=\"display:none;\">\n",
              "        \n",
              "  <svg xmlns=\"http://www.w3.org/2000/svg\" height=\"24px\"viewBox=\"0 0 24 24\"\n",
              "       width=\"24px\">\n",
              "    <path d=\"M0 0h24v24H0V0z\" fill=\"none\"/>\n",
              "    <path d=\"M18.56 5.44l.94 2.06.94-2.06 2.06-.94-2.06-.94-.94-2.06-.94 2.06-2.06.94zm-11 1L8.5 8.5l.94-2.06 2.06-.94-2.06-.94L8.5 2.5l-.94 2.06-2.06.94zm10 10l.94 2.06.94-2.06 2.06-.94-2.06-.94-.94-2.06-.94 2.06-2.06.94z\"/><path d=\"M17.41 7.96l-1.37-1.37c-.4-.4-.92-.59-1.43-.59-.52 0-1.04.2-1.43.59L10.3 9.45l-7.72 7.72c-.78.78-.78 2.05 0 2.83L4 21.41c.39.39.9.59 1.41.59.51 0 1.02-.2 1.41-.59l7.78-7.78 2.81-2.81c.8-.78.8-2.07 0-2.86zM5.41 20L4 18.59l7.72-7.72 1.47 1.35L5.41 20z\"/>\n",
              "  </svg>\n",
              "      </button>\n",
              "      \n",
              "  <style>\n",
              "    .colab-df-container {\n",
              "      display:flex;\n",
              "      flex-wrap:wrap;\n",
              "      gap: 12px;\n",
              "    }\n",
              "\n",
              "    .colab-df-convert {\n",
              "      background-color: #E8F0FE;\n",
              "      border: none;\n",
              "      border-radius: 50%;\n",
              "      cursor: pointer;\n",
              "      display: none;\n",
              "      fill: #1967D2;\n",
              "      height: 32px;\n",
              "      padding: 0 0 0 0;\n",
              "      width: 32px;\n",
              "    }\n",
              "\n",
              "    .colab-df-convert:hover {\n",
              "      background-color: #E2EBFA;\n",
              "      box-shadow: 0px 1px 2px rgba(60, 64, 67, 0.3), 0px 1px 3px 1px rgba(60, 64, 67, 0.15);\n",
              "      fill: #174EA6;\n",
              "    }\n",
              "\n",
              "    [theme=dark] .colab-df-convert {\n",
              "      background-color: #3B4455;\n",
              "      fill: #D2E3FC;\n",
              "    }\n",
              "\n",
              "    [theme=dark] .colab-df-convert:hover {\n",
              "      background-color: #434B5C;\n",
              "      box-shadow: 0px 1px 3px 1px rgba(0, 0, 0, 0.15);\n",
              "      filter: drop-shadow(0px 1px 2px rgba(0, 0, 0, 0.3));\n",
              "      fill: #FFFFFF;\n",
              "    }\n",
              "  </style>\n",
              "\n",
              "      <script>\n",
              "        const buttonEl =\n",
              "          document.querySelector('#df-0de5c675-853e-4105-a387-937b763c14b0 button.colab-df-convert');\n",
              "        buttonEl.style.display =\n",
              "          google.colab.kernel.accessAllowed ? 'block' : 'none';\n",
              "\n",
              "        async function convertToInteractive(key) {\n",
              "          const element = document.querySelector('#df-0de5c675-853e-4105-a387-937b763c14b0');\n",
              "          const dataTable =\n",
              "            await google.colab.kernel.invokeFunction('convertToInteractive',\n",
              "                                                     [key], {});\n",
              "          if (!dataTable) return;\n",
              "\n",
              "          const docLinkHtml = 'Like what you see? Visit the ' +\n",
              "            '<a target=\"_blank\" href=https://colab.research.google.com/notebooks/data_table.ipynb>data table notebook</a>'\n",
              "            + ' to learn more about interactive tables.';\n",
              "          element.innerHTML = '';\n",
              "          dataTable['output_type'] = 'display_data';\n",
              "          await google.colab.output.renderOutput(dataTable, element);\n",
              "          const docLink = document.createElement('div');\n",
              "          docLink.innerHTML = docLinkHtml;\n",
              "          element.appendChild(docLink);\n",
              "        }\n",
              "      </script>\n",
              "    </div>\n",
              "  </div>\n",
              "  "
            ]
          },
          "metadata": {},
          "execution_count": 9
        }
      ],
      "source": [
        "courses.toPandas()"
      ]
    },
    {
      "cell_type": "markdown",
      "metadata": {
        "id": "MQQuUTP_4TLZ"
      },
      "source": [
        "## Recap: About this database\n",
        "\n",
        "You will notice that there are several more tables in the uw-madision-courses folder than there are read in above. This so that you will have a chance to practice your own custom joins and learn about the relationships between a real database work. Sometimes we don't know how they are related and we need to figure it out! I'll save that for the HW :) \n",
        "\n",
        "Here is a look at some of the important variables we can use to join our tables:\n",
        "\n",
        " - course_offerings: uuid, course_uuid, term_code, name\n",
        " - instructors: id, name\n",
        " - schedules: uuid\n",
        " - sections: uuid, course_offering_uuid,room_uuid, schedule_uuid\n",
        " - teachings: instructor_id, section_uuid\n",
        " - courses: uuid\n",
        " - grade_distributions: course_offering_uuid,section_number\n",
        " - rooms: uuid, facility_code, room_code\n",
        " - subjects: code\n",
        " - subject_memberships: subject_code, course_offering_uuid\n",
        " \n",
        " **Source:** https://www.kaggle.com/Madgrades/uw-madison-courses\n",
        " \n",
        "So alright, let's use this information to discover some insights from this data!"
      ]
    },
    {
      "cell_type": "markdown",
      "metadata": {
        "id": "HAT6JtN74TLb"
      },
      "source": [
        "## 1a. Can you assign the room numbers to each section of each course?\n",
        "\n",
        "Show only the rooms uuid, facility code, room number, term code and the name of the course from the course_offerings table."
      ]
    },
    {
      "cell_type": "code",
      "execution_count": null,
      "metadata": {
        "colab": {
          "base_uri": "https://localhost:8080/"
        },
        "id": "Tl5N_l5k4TLc",
        "outputId": "65af5ccf-1436-46d4-9801-4e780a281cb1"
      },
      "outputs": [
        {
          "output_type": "stream",
          "name": "stdout",
          "text": [
            "+--------------------+--------------------+---------+--------------------+\n",
            "|                uuid|         course_uuid|term_code|                name|\n",
            "+--------------------+--------------------+---------+--------------------+\n",
            "|344b3ebe-da7e-314...|a3e3e1c3-543d-3bb...|     1092|Cooperative Educa...|\n",
            "+--------------------+--------------------+---------+--------------------+\n",
            "only showing top 1 row\n",
            "\n",
            "+--------------------+--------------------+------------+------+---------+--------------------+\n",
            "|                uuid|course_offering_uuid|section_type|number|room_uuid|       schedule_uuid|\n",
            "+--------------------+--------------------+------------+------+---------+--------------------+\n",
            "|45adf63c-48c9-365...|344b3ebe-da7e-314...|         FLD|     1|     null|f2d66a4d-0c08-3b4...|\n",
            "+--------------------+--------------------+------------+------+---------+--------------------+\n",
            "only showing top 1 row\n",
            "\n",
            "+--------------------+--------------------+------+\n",
            "|                uuid|                name|number|\n",
            "+--------------------+--------------------+------+\n",
            "|a3e3e1c3-543d-3bb...|Cooperative Educa...|     1|\n",
            "+--------------------+--------------------+------+\n",
            "only showing top 1 row\n",
            "\n",
            "+--------------------+-------------+---------+\n",
            "|                uuid|facility_code|room_code|\n",
            "+--------------------+-------------+---------+\n",
            "|04368a56-c959-3e4...|   OFF CAMPUS|     null|\n",
            "+--------------------+-------------+---------+\n",
            "only showing top 1 row\n",
            "\n"
          ]
        }
      ],
      "source": [
        "course_offerings.show(1)\n",
        "sections.show(1)\n",
        "courses.show(1)\n",
        "rooms.show(1)"
      ]
    },
    {
      "cell_type": "code",
      "execution_count": null,
      "metadata": {
        "id": "HgtOSrfR4TLb"
      },
      "outputs": [],
      "source": [
        "step1 = sections.join(course_offerings, course_offerings.uuid == sections.course_offering_uuid,\"inner\") \\\n",
        "                  .select(sections.uuid.alias('section_uuid'),sections.room_uuid,course_offerings.course_uuid \\\n",
        "                          ,course_offerings.term_code ,sections.uuid.alias('section_uuid'))\n",
        "            \n",
        "step2 = step1.join(courses.select('uuid','name'), courses.uuid == step1.course_uuid)\n",
        "step3 = step2.join(rooms , rooms.uuid == step2.room_uuid, 'left')\n",
        "df = step3.select(rooms.uuid, rooms.facility_code, rooms.room_code, step2.term_code,step3.name)"
      ]
    },
    {
      "cell_type": "code",
      "source": [
        "df.show()"
      ],
      "metadata": {
        "colab": {
          "base_uri": "https://localhost:8080/"
        },
        "id": "gV3nPM9Y_SuE",
        "outputId": "9e96a3e5-583b-41ac-ad51-149c893764c0"
      },
      "execution_count": null,
      "outputs": [
        {
          "output_type": "stream",
          "name": "stdout",
          "text": [
            "+--------------------+-------------+---------+---------+--------------------+\n",
            "|                uuid|facility_code|room_code|term_code|                name|\n",
            "+--------------------+-------------+---------+---------+--------------------+\n",
            "|                null|         null|     null|     1092|Cooperative Educa...|\n",
            "|                null|         null|     null|     1082|Cooperative Educa...|\n",
            "|04368a56-c959-3e4...|   OFF CAMPUS|     null|     1172|Cooperative Educa...|\n",
            "|                null|         null|     null|     1172|Cooperative Educa...|\n",
            "|                null|         null|     null|     1172|Cooperative Educa...|\n",
            "|04368a56-c959-3e4...|   OFF CAMPUS|     null|     1172|Cooperative Educa...|\n",
            "|04368a56-c959-3e4...|   OFF CAMPUS|     null|     1114|Cooperative Educa...|\n",
            "|                null|         null|     null|     1114|Cooperative Educa...|\n",
            "|                null|         null|     null|     1104|Cooperative Educa...|\n",
            "|04368a56-c959-3e4...|   OFF CAMPUS|     null|     1104|Cooperative Educa...|\n",
            "|                null|         null|     null|     1112|Cooperative Educa...|\n",
            "|04368a56-c959-3e4...|   OFF CAMPUS|     null|     1134|Cooperative Educa...|\n",
            "|04368a56-c959-3e4...|   OFF CAMPUS|     null|     1134|Cooperative Educa...|\n",
            "|                null|         null|     null|     1134|Cooperative Educa...|\n",
            "|                null|         null|     null|     1084|Cooperative Educa...|\n",
            "|04368a56-c959-3e4...|   OFF CAMPUS|     null|     1084|Cooperative Educa...|\n",
            "|                null|         null|     null|     1154|Cooperative Educa...|\n",
            "|04368a56-c959-3e4...|   OFF CAMPUS|     null|     1154|Cooperative Educa...|\n",
            "|04368a56-c959-3e4...|   OFF CAMPUS|     null|     1154|Cooperative Educa...|\n",
            "|                null|         null|     null|     1154|Cooperative Educa...|\n",
            "+--------------------+-------------+---------+---------+--------------------+\n",
            "only showing top 20 rows\n",
            "\n"
          ]
        }
      ]
    },
    {
      "cell_type": "markdown",
      "metadata": {
        "id": "DuX3voeL4TLc"
      },
      "source": [
        "## 1b. Now show same output as above but for only facility number 0469 (facility_code)"
      ]
    },
    {
      "cell_type": "code",
      "execution_count": null,
      "metadata": {
        "colab": {
          "base_uri": "https://localhost:8080/"
        },
        "id": "Uu6uDkZE4TLc",
        "outputId": "a39ddfd5-bc37-45f6-aad0-4abde7cae4d8"
      },
      "outputs": [
        {
          "output_type": "stream",
          "name": "stdout",
          "text": [
            "+--------------------+-------------+---------+---------+--------------------+\n",
            "|                uuid|facility_code|room_code|term_code|                name|\n",
            "+--------------------+-------------+---------+---------+--------------------+\n",
            "|9759cb5f-a7d3-3d0...|         0469|     2441|     1152|  Fundamentals-Flute|\n",
            "|9759cb5f-a7d3-3d0...|         0469|     2441|     1092|  Fundamentals-Flute|\n",
            "|6af80b0b-b3e3-370...|         0469|     4411|     1172|  Fundamentals-Flute|\n",
            "|9759cb5f-a7d3-3d0...|         0469|     2441|     1162|  Fundamentals-Flute|\n",
            "|9759cb5f-a7d3-3d0...|         0469|     2441|     1132|  Fundamentals-Flute|\n",
            "|50322d30-dd8f-3c6...|         0469|     2511|     1072|  Fundamentals-Flute|\n",
            "|9759cb5f-a7d3-3d0...|         0469|     2441|     1142|  Fundamentals-Flute|\n",
            "|9759cb5f-a7d3-3d0...|         0469|     2441|     1112|  Fundamentals-Flute|\n",
            "|9759cb5f-a7d3-3d0...|         0469|     2441|     1102|  Fundamentals-Flute|\n",
            "|50322d30-dd8f-3c6...|         0469|     2511|     1082|  Fundamentals-Flute|\n",
            "|9759cb5f-a7d3-3d0...|         0469|     2441|     1122|  Fundamentals-Flute|\n",
            "|9759cb5f-a7d3-3d0...|         0469|     2441|     1182|  Fundamentals-Flute|\n",
            "|9759cb5f-a7d3-3d0...|         0469|     2441|     1172|Fundamentals: Sin...|\n",
            "|9759cb5f-a7d3-3d0...|         0469|     2441|     1172|Fundamentals: Sin...|\n",
            "|9759cb5f-a7d3-3d0...|         0469|     2441|     1152|Fundamentals: Sin...|\n",
            "|9759cb5f-a7d3-3d0...|         0469|     2441|     1152|Fundamentals: Sin...|\n",
            "|9759cb5f-a7d3-3d0...|         0469|     2441|     1072|Fundamentals: Sin...|\n",
            "|9759cb5f-a7d3-3d0...|         0469|     2441|     1072|Fundamentals: Sin...|\n",
            "|9759cb5f-a7d3-3d0...|         0469|     2441|     1122|Fundamentals: Sin...|\n",
            "|9759cb5f-a7d3-3d0...|         0469|     2441|     1102|Fundamentals: Sin...|\n",
            "+--------------------+-------------+---------+---------+--------------------+\n",
            "only showing top 20 rows\n",
            "\n"
          ]
        }
      ],
      "source": [
        "df.filter('facility_code == 0469').show()"
      ]
    },
    {
      "cell_type": "markdown",
      "metadata": {
        "id": "ktkm4nhe4TLd"
      },
      "source": [
        "## 2. Count how many sections are offered for each subject for each facility\n",
        "\n",
        "*Note: this will involve a groupby*"
      ]
    },
    {
      "cell_type": "code",
      "execution_count": null,
      "metadata": {
        "colab": {
          "base_uri": "https://localhost:8080/"
        },
        "id": "VFQfeMeI4TLe",
        "outputId": "4444f595-ad7a-4c7f-bbdb-79705af1805b"
      },
      "outputs": [
        {
          "output_type": "stream",
          "name": "stdout",
          "text": [
            "+-------------+--------------------+----------------+\n",
            "|facility_code|                name|count(room_code)|\n",
            "+-------------+--------------------+----------------+\n",
            "|       ONLINE| Introduction to Art|               2|\n",
            "|         0057|Design: Fundament...|              24|\n",
            "|         0402|Introduction to C...|               1|\n",
            "|         0482|Russian Honors Tu...|              11|\n",
            "|         0482|Introductory Topi...|               3|\n",
            "|         0015|Second Year Compo...|               3|\n",
            "|         0408|Technical Present...|              52|\n",
            "|         0048|Intermediate Labo...|               1|\n",
            "|         0056|The Crusades: Chr...|               1|\n",
            "|         0400|Introduction to T...|               5|\n",
            "|         0469|   English Phonology|               5|\n",
            "|         0470|Principles of Int...|               4|\n",
            "|         0140|Human Development...|               2|\n",
            "|         0057|First Semester Ar...|               1|\n",
            "|         0450|Fundamentals of A...|              18|\n",
            "|         0408|China in World Po...|               2|\n",
            "|         0046|Extinction of Spe...|               7|\n",
            "|       ONLINE| Contemporary Topics|               7|\n",
            "|         0070|   Planting Design I|              16|\n",
            "|         0048|Contemporary Econ...|               1|\n",
            "+-------------+--------------------+----------------+\n",
            "only showing top 20 rows\n",
            "\n"
          ]
        }
      ],
      "source": [
        "from pyspark.sql.functions import *\n",
        "\n",
        "#considering one room for each section\n",
        "df.groupBy('facility_code','name').agg(count('room_code')).show()\n",
        "\n"
      ]
    },
    {
      "cell_type": "markdown",
      "metadata": {
        "id": "wTfOGY_R4TLf"
      },
      "source": [
        "## 3. What are the hardest classes?\n",
        "\n",
        "Let's see if we can figure out which classes are the hardest by seeing how many students failed. Note that you will first need to aggregate the grades table by the course uuid to include all sections. Show the name of the course as well that you will need to get from the course_offering table."
      ]
    },
    {
      "cell_type": "code",
      "execution_count": null,
      "metadata": {
        "colab": {
          "base_uri": "https://localhost:8080/"
        },
        "id": "rSMXL6Tf4TLg",
        "outputId": "d63ada85-ded2-4198-908a-6450a0fad1ba"
      },
      "outputs": [
        {
          "output_type": "stream",
          "name": "stdout",
          "text": [
            "+--------------------+--------------+-------+--------+-------+--------+-------+-------+-------+-------+-------+--------+-------+-------+-------+--------+--------+-----------+--------------------+--------------------+---------+--------------------+\n",
            "|course_offering_uuid|section_number|a_count|ab_count|b_count|bc_count|c_count|d_count|f_count|s_count|u_count|cr_count|n_count|p_count|i_count|nw_count|nr_count|other_count|                uuid|         course_uuid|term_code|                name|\n",
            "+--------------------+--------------+-------+--------+-------+--------+-------+-------+-------+-------+-------+--------+-------+-------+-------+--------+--------+-----------+--------------------+--------------------+---------+--------------------+\n",
            "|344b3ebe-da7e-314...|             1|    105|       0|      0|       0|      0|      0|      0|      0|      0|       0|      0|      0|      0|       0|       0|          0|344b3ebe-da7e-314...|a3e3e1c3-543d-3bb...|     1092|Cooperative Educa...|\n",
            "|f718e6cd-33f0-3c1...|             1|    158|       0|      0|       0|      0|      0|      0|      0|      0|       0|      0|      0|      1|       0|       0|          0|f718e6cd-33f0-3c1...|a3e3e1c3-543d-3bb...|     1082|Cooperative Educa...|\n",
            "+--------------------+--------------+-------+--------+-------+--------+-------+-------+-------+-------+-------+--------+-------+-------+-------+--------+--------+-----------+--------------------+--------------------+---------+--------------------+\n",
            "only showing top 2 rows\n",
            "\n"
          ]
        }
      ],
      "source": [
        "fails = grade_distributions.join(course_offerings, grade_distributions.course_offering_uuid == course_offerings.uuid, 'inner')\n",
        "\n",
        "fails.show(2)"
      ]
    },
    {
      "cell_type": "code",
      "execution_count": null,
      "metadata": {
        "colab": {
          "base_uri": "https://localhost:8080/"
        },
        "id": "6wLrBCIM4TLg",
        "outputId": "51ffe327-276b-416e-a614-1f5507e43430"
      },
      "outputs": [
        {
          "output_type": "stream",
          "name": "stdout",
          "text": [
            "+--------------------+-----+\n",
            "|                name|fails|\n",
            "+--------------------+-----+\n",
            "|     Math for Tchng:|    8|\n",
            "|Where Science Mee...|    2|\n",
            "+--------------------+-----+\n",
            "only showing top 2 rows\n",
            "\n"
          ]
        }
      ],
      "source": [
        "fails = fails.groupBy('name').agg(sum('f_count')).withColumnRenamed('sum(f_count)','fails')\n",
        "fails.show(2)"
      ]
    },
    {
      "cell_type": "code",
      "source": [
        "fails.filter('fails > 0').orderBy(fails.fails.desc()).limit(5).toPandas()"
      ],
      "metadata": {
        "colab": {
          "base_uri": "https://localhost:8080/",
          "height": 206
        },
        "id": "3FRPPmI4HgZz",
        "outputId": "4a6a8840-33ac-41aa-d33e-3fd0ae43e69e"
      },
      "execution_count": null,
      "outputs": [
        {
          "output_type": "execute_result",
          "data": {
            "text/plain": [
              "                         name  fails\n",
              "0  Calculus&Analytic Geometry    925\n",
              "1              Animal Biology    908\n",
              "2     Intro Organic Chemistry    724\n",
              "3  Introduction to Psychology    613\n",
              "4  Calc--Functns of Variables    575"
            ],
            "text/html": [
              "\n",
              "  <div id=\"df-16d81e76-8b9a-4710-9a55-6fb10ff67e03\">\n",
              "    <div class=\"colab-df-container\">\n",
              "      <div>\n",
              "<style scoped>\n",
              "    .dataframe tbody tr th:only-of-type {\n",
              "        vertical-align: middle;\n",
              "    }\n",
              "\n",
              "    .dataframe tbody tr th {\n",
              "        vertical-align: top;\n",
              "    }\n",
              "\n",
              "    .dataframe thead th {\n",
              "        text-align: right;\n",
              "    }\n",
              "</style>\n",
              "<table border=\"1\" class=\"dataframe\">\n",
              "  <thead>\n",
              "    <tr style=\"text-align: right;\">\n",
              "      <th></th>\n",
              "      <th>name</th>\n",
              "      <th>fails</th>\n",
              "    </tr>\n",
              "  </thead>\n",
              "  <tbody>\n",
              "    <tr>\n",
              "      <th>0</th>\n",
              "      <td>Calculus&amp;Analytic Geometry</td>\n",
              "      <td>925</td>\n",
              "    </tr>\n",
              "    <tr>\n",
              "      <th>1</th>\n",
              "      <td>Animal Biology</td>\n",
              "      <td>908</td>\n",
              "    </tr>\n",
              "    <tr>\n",
              "      <th>2</th>\n",
              "      <td>Intro Organic Chemistry</td>\n",
              "      <td>724</td>\n",
              "    </tr>\n",
              "    <tr>\n",
              "      <th>3</th>\n",
              "      <td>Introduction to Psychology</td>\n",
              "      <td>613</td>\n",
              "    </tr>\n",
              "    <tr>\n",
              "      <th>4</th>\n",
              "      <td>Calc--Functns of Variables</td>\n",
              "      <td>575</td>\n",
              "    </tr>\n",
              "  </tbody>\n",
              "</table>\n",
              "</div>\n",
              "      <button class=\"colab-df-convert\" onclick=\"convertToInteractive('df-16d81e76-8b9a-4710-9a55-6fb10ff67e03')\"\n",
              "              title=\"Convert this dataframe to an interactive table.\"\n",
              "              style=\"display:none;\">\n",
              "        \n",
              "  <svg xmlns=\"http://www.w3.org/2000/svg\" height=\"24px\"viewBox=\"0 0 24 24\"\n",
              "       width=\"24px\">\n",
              "    <path d=\"M0 0h24v24H0V0z\" fill=\"none\"/>\n",
              "    <path d=\"M18.56 5.44l.94 2.06.94-2.06 2.06-.94-2.06-.94-.94-2.06-.94 2.06-2.06.94zm-11 1L8.5 8.5l.94-2.06 2.06-.94-2.06-.94L8.5 2.5l-.94 2.06-2.06.94zm10 10l.94 2.06.94-2.06 2.06-.94-2.06-.94-.94-2.06-.94 2.06-2.06.94z\"/><path d=\"M17.41 7.96l-1.37-1.37c-.4-.4-.92-.59-1.43-.59-.52 0-1.04.2-1.43.59L10.3 9.45l-7.72 7.72c-.78.78-.78 2.05 0 2.83L4 21.41c.39.39.9.59 1.41.59.51 0 1.02-.2 1.41-.59l7.78-7.78 2.81-2.81c.8-.78.8-2.07 0-2.86zM5.41 20L4 18.59l7.72-7.72 1.47 1.35L5.41 20z\"/>\n",
              "  </svg>\n",
              "      </button>\n",
              "      \n",
              "  <style>\n",
              "    .colab-df-container {\n",
              "      display:flex;\n",
              "      flex-wrap:wrap;\n",
              "      gap: 12px;\n",
              "    }\n",
              "\n",
              "    .colab-df-convert {\n",
              "      background-color: #E8F0FE;\n",
              "      border: none;\n",
              "      border-radius: 50%;\n",
              "      cursor: pointer;\n",
              "      display: none;\n",
              "      fill: #1967D2;\n",
              "      height: 32px;\n",
              "      padding: 0 0 0 0;\n",
              "      width: 32px;\n",
              "    }\n",
              "\n",
              "    .colab-df-convert:hover {\n",
              "      background-color: #E2EBFA;\n",
              "      box-shadow: 0px 1px 2px rgba(60, 64, 67, 0.3), 0px 1px 3px 1px rgba(60, 64, 67, 0.15);\n",
              "      fill: #174EA6;\n",
              "    }\n",
              "\n",
              "    [theme=dark] .colab-df-convert {\n",
              "      background-color: #3B4455;\n",
              "      fill: #D2E3FC;\n",
              "    }\n",
              "\n",
              "    [theme=dark] .colab-df-convert:hover {\n",
              "      background-color: #434B5C;\n",
              "      box-shadow: 0px 1px 3px 1px rgba(0, 0, 0, 0.15);\n",
              "      filter: drop-shadow(0px 1px 2px rgba(0, 0, 0, 0.3));\n",
              "      fill: #FFFFFF;\n",
              "    }\n",
              "  </style>\n",
              "\n",
              "      <script>\n",
              "        const buttonEl =\n",
              "          document.querySelector('#df-16d81e76-8b9a-4710-9a55-6fb10ff67e03 button.colab-df-convert');\n",
              "        buttonEl.style.display =\n",
              "          google.colab.kernel.accessAllowed ? 'block' : 'none';\n",
              "\n",
              "        async function convertToInteractive(key) {\n",
              "          const element = document.querySelector('#df-16d81e76-8b9a-4710-9a55-6fb10ff67e03');\n",
              "          const dataTable =\n",
              "            await google.colab.kernel.invokeFunction('convertToInteractive',\n",
              "                                                     [key], {});\n",
              "          if (!dataTable) return;\n",
              "\n",
              "          const docLinkHtml = 'Like what you see? Visit the ' +\n",
              "            '<a target=\"_blank\" href=https://colab.research.google.com/notebooks/data_table.ipynb>data table notebook</a>'\n",
              "            + ' to learn more about interactive tables.';\n",
              "          element.innerHTML = '';\n",
              "          dataTable['output_type'] = 'display_data';\n",
              "          await google.colab.output.renderOutput(dataTable, element);\n",
              "          const docLink = document.createElement('div');\n",
              "          docLink.innerHTML = docLinkHtml;\n",
              "          element.appendChild(docLink);\n",
              "        }\n",
              "      </script>\n",
              "    </div>\n",
              "  </div>\n",
              "  "
            ]
          },
          "metadata": {},
          "execution_count": 119
        }
      ]
    },
    {
      "cell_type": "markdown",
      "metadata": {
        "id": "TJsEYs0t4TLh"
      },
      "source": [
        "## Challenge Question: Automating data entry errors\n",
        "\n",
        "We see in the dataframe below that there are several typos of various animal names. If this was a large database of several millions of records, correcting these errors would be way too labor intensive. How can we automate correcting these errors?\n",
        "\n",
        "*Hint: Leven...*"
      ]
    },
    {
      "cell_type": "code",
      "execution_count": null,
      "metadata": {
        "colab": {
          "base_uri": "https://localhost:8080/"
        },
        "id": "kaZhd5_T4TLh",
        "outputId": "b54fd2f4-8658-4ed0-c367-eecb965ebb0d"
      },
      "outputs": [
        {
          "output_type": "stream",
          "name": "stdout",
          "text": [
            "+------------+---+\n",
            "|      Animal|age|\n",
            "+------------+---+\n",
            "|      Monkey| 10|\n",
            "|      Monkay| 36|\n",
            "|        Mnky|123|\n",
            "|    Elephant| 48|\n",
            "|     Elefant| 16|\n",
            "|    Ellafant|  1|\n",
            "|Hippopotamus| 48|\n",
            "| Hipopotamus| 16|\n",
            "|       Hippo|  1|\n",
            "+------------+---+\n",
            "\n"
          ]
        }
      ],
      "source": [
        "values = [('Monkey',10),('Monkay',36),('Mnky',123), \\\n",
        "          ('Elephant',48),('Elefant',16),('Ellafant',1), \\\n",
        "          ('Hippopotamus',48),('Hipopotamus',16),('Hippo',1)]\n",
        "zoo = spark.createDataFrame(values,['Animal','age'])\n",
        "zoo.show()"
      ]
    },
    {
      "cell_type": "code",
      "source": [],
      "metadata": {
        "id": "Ppq9eiOVLd7K"
      },
      "execution_count": null,
      "outputs": []
    },
    {
      "cell_type": "markdown",
      "metadata": {
        "id": "r9XGCFd34TLj"
      },
      "source": [
        "### Great job! "
      ]
    }
  ],
  "metadata": {
    "kernelspec": {
      "display_name": "Python 3 (ipykernel)",
      "language": "python",
      "name": "python3"
    },
    "language_info": {
      "codemirror_mode": {
        "name": "ipython",
        "version": 3
      },
      "file_extension": ".py",
      "mimetype": "text/x-python",
      "name": "python",
      "nbconvert_exporter": "python",
      "pygments_lexer": "ipython3",
      "version": "3.10.8"
    },
    "colab": {
      "provenance": []
    }
  },
  "nbformat": 4,
  "nbformat_minor": 0
}