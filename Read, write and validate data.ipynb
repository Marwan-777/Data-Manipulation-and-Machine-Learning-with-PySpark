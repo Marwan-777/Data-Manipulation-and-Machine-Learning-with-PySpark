{
  "cells": [
    {
      "cell_type": "markdown",
      "metadata": {
        "id": "xvMAZSm308K7"
      },
      "source": [
        "# Reading, Writing and Validating Data in PySpark HW\n",
        "\n",
        "Welcome to your first coding homework assignment in PySpark! I hope you enjoyed the lecture on Reading, Writing and Validating dataframes. Now it's time to put what you've learned into action! \n",
        "\n",
        "I've included several instructions below to help guide you through this homework assignment which I hope will get you feeling even comfortable reading, writing and validating dataframes. If you get stuck at any point, feel free to jump to the next lecture where I will guide you through my solutions to the HW assignment. \n",
        "\n",
        "Have fun!\n",
        "\n",
        "Let's dig right in!\n",
        "\n",
        "\n",
        "## But first things first.....\n",
        "We need to always begin every Spark session by creating a Spark instance. Let's go ahead and use the method we learned in the lecture in the cell below. Also see if you can remember how to open the Spark UI (using a link that automatically guides you there). "
      ]
    },
    {
      "cell_type": "code",
      "source": [
        "from google.colab import drive\n",
        "drive.mount('/content/drive')"
      ],
      "metadata": {
        "colab": {
          "base_uri": "https://localhost:8080/"
        },
        "id": "V05T1AcDl0se",
        "outputId": "226bb3d4-783b-42f7-aa96-cedbb72db5d3"
      },
      "execution_count": null,
      "outputs": [
        {
          "output_type": "stream",
          "name": "stdout",
          "text": [
            "Mounted at /content/drive\n"
          ]
        }
      ]
    },
    {
      "cell_type": "code",
      "source": [
        "path = \"drive/MyDrive/5. Spark/spark-scripts/section2/Datasets/\""
      ],
      "metadata": {
        "id": "b2Hw7Fzmnyiw"
      },
      "execution_count": null,
      "outputs": []
    },
    {
      "cell_type": "code",
      "execution_count": null,
      "metadata": {
        "id": "3ugsI3iT08LD",
        "colab": {
          "base_uri": "https://localhost:8080/",
          "height": 500
        },
        "outputId": "418fb7db-3943-4457-d166-f9d957a18033"
      },
      "outputs": [
        {
          "output_type": "stream",
          "name": "stdout",
          "text": [
            "Looking in indexes: https://pypi.org/simple, https://us-python.pkg.dev/colab-wheels/public/simple/\n",
            "Collecting pyspark\n",
            "  Downloading pyspark-3.3.1.tar.gz (281.4 MB)\n",
            "\u001b[2K     \u001b[90m━━━━━━━━━━━━━━━━━━━━━━━━━━━━━━━━━━━━━━━\u001b[0m \u001b[32m281.4/281.4 MB\u001b[0m \u001b[31m5.3 MB/s\u001b[0m eta \u001b[36m0:00:00\u001b[0m\n",
            "\u001b[?25h  Preparing metadata (setup.py) ... \u001b[?25l\u001b[?25hdone\n",
            "Collecting py4j==0.10.9.5\n",
            "  Downloading py4j-0.10.9.5-py2.py3-none-any.whl (199 kB)\n",
            "\u001b[2K     \u001b[90m━━━━━━━━━━━━━━━━━━━━━━━━━━━━━━━━━━━━━━━\u001b[0m \u001b[32m199.7/199.7 KB\u001b[0m \u001b[31m7.8 MB/s\u001b[0m eta \u001b[36m0:00:00\u001b[0m\n",
            "\u001b[?25hBuilding wheels for collected packages: pyspark\n",
            "  Building wheel for pyspark (setup.py) ... \u001b[?25l\u001b[?25hdone\n",
            "  Created wheel for pyspark: filename=pyspark-3.3.1-py2.py3-none-any.whl size=281845512 sha256=a4c6bcc82b3d781032f770fa38372c8ffd53616b543dcac57540468865665e8b\n",
            "  Stored in directory: /root/.cache/pip/wheels/43/dc/11/ec201cd671da62fa9c5cc77078235e40722170ceba231d7598\n",
            "Successfully built pyspark\n",
            "Installing collected packages: py4j, pyspark\n",
            "Successfully installed py4j-0.10.9.5 pyspark-3.3.1\n"
          ]
        },
        {
          "output_type": "execute_result",
          "data": {
            "text/plain": [
              "<pyspark.sql.session.SparkSession at 0x7f282ec68cd0>"
            ],
            "text/html": [
              "\n",
              "            <div>\n",
              "                <p><b>SparkSession - in-memory</b></p>\n",
              "                \n",
              "        <div>\n",
              "            <p><b>SparkContext</b></p>\n",
              "\n",
              "            <p><a href=\"http://340a2f59afe4:4040\">Spark UI</a></p>\n",
              "\n",
              "            <dl>\n",
              "              <dt>Version</dt>\n",
              "                <dd><code>v3.3.1</code></dd>\n",
              "              <dt>Master</dt>\n",
              "                <dd><code>local[*]</code></dd>\n",
              "              <dt>AppName</dt>\n",
              "                <dd><code>ReadWriteVal</code></dd>\n",
              "            </dl>\n",
              "        </div>\n",
              "        \n",
              "            </div>\n",
              "        "
            ]
          },
          "metadata": {},
          "execution_count": 6
        }
      ],
      "source": [
        "!pip install pyspark\n",
        "import pyspark # only run after findspark.init()\n",
        "from pyspark.sql import SparkSession\n",
        "# May take awhile locally\n",
        "spark = SparkSession.builder.appName(\"ReadWriteVal\").getOrCreate()\n",
        "\n",
        "\n",
        "spark"
      ]
    },
    {
      "cell_type": "markdown",
      "metadata": {
        "id": "DKZnH9Ef08LF"
      },
      "source": [
        "## Next let's start by reading a basic csv dataset\n",
        "\n",
        "Download the pga_tour_historical dataset that is attached to this lecture and save it whatever folder you want, then read it in. \n",
        "\n",
        "**Data Source:** https://www.kaggle.com/bradklassen/pga-tour-20102018-data\n",
        "\n",
        "Rememer to try letting Spark infer the header and infer the Schema types!"
      ]
    },
    {
      "cell_type": "code",
      "execution_count": null,
      "metadata": {
        "id": "eItqlpTl08LG"
      },
      "outputs": [],
      "source": [
        "df = spark.read.csv(path+\"pga_tour_historical.csv\",inferSchema = True , header = True)"
      ]
    },
    {
      "cell_type": "markdown",
      "metadata": {
        "id": "JZ298TPP08LH"
      },
      "source": [
        "## 1. View first 5 lines of dataframe\n",
        "First generate a view of the first 5 lines of the dataframe to get an idea of what is inside. We went over two ways of doing this... see if you can remember BOTH ways. "
      ]
    },
    {
      "cell_type": "code",
      "execution_count": null,
      "metadata": {
        "id": "4Ija7K5h08LH",
        "colab": {
          "base_uri": "https://localhost:8080/"
        },
        "outputId": "ca89bc55-fdd0-4630-ec17-161e0058ecc3"
      },
      "outputs": [
        {
          "output_type": "stream",
          "name": "stdout",
          "text": [
            "+---------------+------+----------------+--------------------+-----+\n",
            "|    Player Name|Season|       Statistic|            Variable|Value|\n",
            "+---------------+------+----------------+--------------------+-----+\n",
            "|Robert Garrigus|  2010|Driving Distance|Driving Distance ...|   71|\n",
            "|   Bubba Watson|  2010|Driving Distance|Driving Distance ...|   77|\n",
            "| Dustin Johnson|  2010|Driving Distance|Driving Distance ...|   83|\n",
            "|Brett Wetterich|  2010|Driving Distance|Driving Distance ...|   54|\n",
            "|    J.B. Holmes|  2010|Driving Distance|Driving Distance ...|  100|\n",
            "+---------------+------+----------------+--------------------+-----+\n",
            "only showing top 5 rows\n",
            "\n"
          ]
        }
      ],
      "source": [
        "df.show(5)"
      ]
    },
    {
      "cell_type": "code",
      "source": [
        "df.limit(5).show()"
      ],
      "metadata": {
        "id": "UgHJbvEQ3UoH",
        "colab": {
          "base_uri": "https://localhost:8080/"
        },
        "outputId": "c3a5128a-83dd-4157-dcb2-28b73d34d33d"
      },
      "execution_count": null,
      "outputs": [
        {
          "output_type": "stream",
          "name": "stdout",
          "text": [
            "+---------------+------+----------------+--------------------+-----+\n",
            "|    Player Name|Season|       Statistic|            Variable|Value|\n",
            "+---------------+------+----------------+--------------------+-----+\n",
            "|Robert Garrigus|  2010|Driving Distance|Driving Distance ...|   71|\n",
            "|   Bubba Watson|  2010|Driving Distance|Driving Distance ...|   77|\n",
            "| Dustin Johnson|  2010|Driving Distance|Driving Distance ...|   83|\n",
            "|Brett Wetterich|  2010|Driving Distance|Driving Distance ...|   54|\n",
            "|    J.B. Holmes|  2010|Driving Distance|Driving Distance ...|  100|\n",
            "+---------------+------+----------------+--------------------+-----+\n",
            "\n"
          ]
        }
      ]
    },
    {
      "cell_type": "markdown",
      "metadata": {
        "id": "eniG7lxk08LI"
      },
      "source": [
        "## 2. Print the schema details\n",
        "\n",
        "Now print the details of the dataframes schema that Spark infered to ensure that it was infered correctly. Sometimes it is not infered correctly, so we need to watch out!"
      ]
    },
    {
      "cell_type": "code",
      "execution_count": null,
      "metadata": {
        "id": "RhAXT2iP08LJ",
        "colab": {
          "base_uri": "https://localhost:8080/"
        },
        "outputId": "b0d8a7d2-f409-4be5-d276-fccadffe5d6a"
      },
      "outputs": [
        {
          "output_type": "stream",
          "name": "stdout",
          "text": [
            "root\n",
            " |-- Player Name: string (nullable = true)\n",
            " |-- Season: integer (nullable = true)\n",
            " |-- Statistic: string (nullable = true)\n",
            " |-- Variable: string (nullable = true)\n",
            " |-- Value: string (nullable = true)\n",
            "\n"
          ]
        }
      ],
      "source": [
        "df.printSchema()"
      ]
    },
    {
      "cell_type": "markdown",
      "metadata": {
        "id": "LccWdbuf08LJ"
      },
      "source": [
        "## 3. Edit the schema during the read in\n",
        "\n",
        "We can see from the output above that Spark did not correctly infer that the \"value\" column was an integer value. Let's try specifying the schema this time to let spark know what the schema should be.\n",
        "\n",
        "Here is a link to see a list of PySpark data types in case you need it (also attached to the lecture): \n",
        "https://spark.apache.org/docs/latest/sql-ref-datatypes.html"
      ]
    },
    {
      "cell_type": "code",
      "execution_count": null,
      "metadata": {
        "id": "PgdL_h0d08LK"
      },
      "outputs": [],
      "source": [
        "from pyspark.sql.types import StructField,StringType,IntegerType,StructType,DateType"
      ]
    },
    {
      "cell_type": "code",
      "source": [
        "data_schema = [StructField(\"Player Name\", StringType(), True),\n",
        "               StructField(\"Season\", IntegerType(), True),\n",
        "               StructField(\"Statistic\", StringType(), True),\n",
        "               StructField(\"Variable\", StringType(), True),\n",
        "               StructField(\"Value\", IntegerType(), True)]"
      ],
      "metadata": {
        "id": "pfJgpaHu3oGI"
      },
      "execution_count": null,
      "outputs": []
    },
    {
      "cell_type": "code",
      "source": [
        "final_struc = StructType(fields=data_schema)\n",
        "df = spark.read.csv(path+'pga_tour_historical.csv', schema=final_struc)"
      ],
      "metadata": {
        "id": "DRDJQNAZ3qrW"
      },
      "execution_count": null,
      "outputs": []
    },
    {
      "cell_type": "code",
      "source": [
        "df.printSchema()"
      ],
      "metadata": {
        "id": "JaeDK_nR3wBp",
        "colab": {
          "base_uri": "https://localhost:8080/"
        },
        "outputId": "fd2ad707-c238-4926-c372-1341807b88f4"
      },
      "execution_count": null,
      "outputs": [
        {
          "output_type": "stream",
          "name": "stdout",
          "text": [
            "root\n",
            " |-- Player Name: string (nullable = true)\n",
            " |-- Season: integer (nullable = true)\n",
            " |-- Statistic: string (nullable = true)\n",
            " |-- Variable: string (nullable = true)\n",
            " |-- Value: integer (nullable = true)\n",
            "\n"
          ]
        }
      ]
    },
    {
      "cell_type": "markdown",
      "metadata": {
        "id": "R_MqBS2408LL"
      },
      "source": [
        "## 4. Generate summary statistics for only one variable\n",
        "\n",
        "See if you can generate summary statistics for only the \"Value\" column using the .describe function\n",
        "\n",
        "(count, mean, stddev, min, max) "
      ]
    },
    {
      "cell_type": "code",
      "execution_count": null,
      "metadata": {
        "id": "wK2vug3308LL",
        "colab": {
          "base_uri": "https://localhost:8080/"
        },
        "outputId": "46fca79c-b9b5-4df3-fa59-6428034063e4"
      },
      "outputs": [
        {
          "output_type": "stream",
          "name": "stdout",
          "text": [
            "+-------+------------------+\n",
            "|summary|             Value|\n",
            "+-------+------------------+\n",
            "|  count|           1657247|\n",
            "|   mean|12494.388998743096|\n",
            "| stddev|157274.75673570752|\n",
            "|    min|              -178|\n",
            "|    max|           3564954|\n",
            "+-------+------------------+\n",
            "\n"
          ]
        }
      ],
      "source": [
        "df.describe(\"Value\").show()"
      ]
    },
    {
      "cell_type": "markdown",
      "metadata": {
        "id": "KMhhIIMO08LM"
      },
      "source": [
        "## 5. Generate summary statistics for TWO variables\n",
        "Now try to generate ONLY the count min and max for BOTH the \"Value\" and \"Season\" variable using the select. You can't use the .describe function for this one but see if you can remember which function you CAN use. "
      ]
    },
    {
      "cell_type": "code",
      "execution_count": null,
      "metadata": {
        "id": "lKIwfwG908LM",
        "colab": {
          "base_uri": "https://localhost:8080/"
        },
        "outputId": "bcf3647e-5bc4-4421-d691-497382fa9742"
      },
      "outputs": [
        {
          "output_type": "stream",
          "name": "stdout",
          "text": [
            "+-------+-------+-------+\n",
            "|summary|  Value| Season|\n",
            "+-------+-------+-------+\n",
            "|  count|1657247|2740403|\n",
            "|    min|   -178|   2010|\n",
            "|    max|3564954|   2018|\n",
            "+-------+-------+-------+\n",
            "\n"
          ]
        }
      ],
      "source": [
        "df.select(\"Value\",\"Season\").summary('count','min','max').show()"
      ]
    },
    {
      "cell_type": "markdown",
      "metadata": {
        "id": "ddz3WNaG08LN"
      },
      "source": [
        "## 6. Write a parquet file\n",
        "\n",
        "Now try writing a parquet file (not partitioned) from the pga dataset. But first create a new dataframe containing ONLY the the \"Season\" and \"Value\" fields (using the \"select command you used in the question above) and write a parquet file partitioned by \"Season\". This is a bit of a challenge aimed at getting you ready for material that will be covered later on in the course. Don't feel bad if you can't figure it out.\n",
        "\n",
        "*Note that if any of your variable names contain spaces, spark will produce an error message with this call. That is why we are selecting ONLY the \"Season\" and \"Value\" fields. Ideally we should renamed those columns but we haven't gotten to that yet in this course but we will soon!*"
      ]
    },
    {
      "cell_type": "code",
      "execution_count": null,
      "metadata": {
        "id": "MZEw-l2U08LN"
      },
      "outputs": [],
      "source": [
        "two_columns = df.select('Value','Season')\n",
        "\n",
        "df.write.mode('overwrite').parquet('pga_notPartitioned/')\n"
      ]
    },
    {
      "cell_type": "markdown",
      "metadata": {
        "id": "_IO3Zov908LO"
      },
      "source": [
        "## 7. Write a partioned parquet file\n",
        "\n",
        "You will need to use the same limited dataframe that you created in the previous question to accomplish this task as well. "
      ]
    },
    {
      "cell_type": "code",
      "execution_count": null,
      "metadata": {
        "id": "4xUMGYw208LO"
      },
      "outputs": [],
      "source": [
        "two_columns.write.mode('overwrite').partitionBy('Season').parquet('pga_partitioned/')"
      ]
    },
    {
      "cell_type": "markdown",
      "metadata": {
        "id": "wPfWsgUo08LP"
      },
      "source": [
        "## 8. Read in a partitioned parquet file\n",
        "\n",
        "Now try reading in the partitioned parquet file you just created above. "
      ]
    },
    {
      "cell_type": "code",
      "execution_count": null,
      "metadata": {
        "id": "FkMD00c108LP"
      },
      "outputs": [],
      "source": [
        "read_partitioned = spark.read.parquet('pga_partitioned/*')"
      ]
    },
    {
      "cell_type": "code",
      "source": [
        "print(read_partitioned.count())\n",
        "print(df.count())\n"
      ],
      "metadata": {
        "colab": {
          "base_uri": "https://localhost:8080/"
        },
        "id": "merO9-LWt_FT",
        "outputId": "e84aff17-5b0e-459b-8366-a5874250df17"
      },
      "execution_count": null,
      "outputs": [
        {
          "output_type": "stream",
          "name": "stdout",
          "text": [
            "2740404\n",
            "2740404\n"
          ]
        }
      ]
    },
    {
      "cell_type": "markdown",
      "metadata": {
        "id": "GGJfsY5408LQ"
      },
      "source": [
        "## 9. Reading in a set of paritioned parquet files\n",
        "\n",
        "Now try only reading Seasons 2010, 2011 and 2012."
      ]
    },
    {
      "cell_type": "code",
      "execution_count": null,
      "metadata": {
        "id": "cYG7EdPU08LR"
      },
      "outputs": [],
      "source": [
        "specified_seasons = spark.read.parquet(\"pga_partitioned/Season=2010\", \\\n",
        "                                       \"pga_partitioned/Season=2011\",\"pga_partitioned/Season=2012\")"
      ]
    },
    {
      "cell_type": "code",
      "source": [
        "print(specified_seasons.count())\n"
      ],
      "metadata": {
        "colab": {
          "base_uri": "https://localhost:8080/"
        },
        "id": "__UtBgbJuhM4",
        "outputId": "9f478c1c-171e-4f39-f95e-8984a0b88678"
      },
      "execution_count": null,
      "outputs": [
        {
          "output_type": "stream",
          "name": "stdout",
          "text": [
            "939853\n"
          ]
        }
      ]
    },
    {
      "cell_type": "markdown",
      "metadata": {
        "id": "k9dM_51c08LS"
      },
      "source": [
        "## 10. Create your own dataframe\n",
        "\n",
        "Try creating your own dataframe below using PySparks *.createDataFrame* function. See if you can make one that contains 4 variables and at least 3 rows. \n",
        "\n",
        "Let's see how creative you can get on the content of the dataframe :)"
      ]
    },
    {
      "cell_type": "code",
      "execution_count": null,
      "metadata": {
        "id": "89Ac3V3A08LT",
        "colab": {
          "base_uri": "https://localhost:8080/"
        },
        "outputId": "6becf235-8eea-4da9-c793-4583b205467a"
      },
      "outputs": [
        {
          "output_type": "stream",
          "name": "stdout",
          "text": [
            "+------+------+---+-----+\n",
            "|gender|  name|age|track|\n",
            "+------+------+---+-----+\n",
            "|     M|Marwan| 23|   DS|\n",
            "|     M|   Aly| 24|   DM|\n",
            "|     F|   aml| 25|  any|\n",
            "+------+------+---+-----+\n",
            "\n"
          ]
        }
      ],
      "source": [
        "data = [('M','Marwan',23,'DS') , ('M','Aly',24,'DM'), ('F','aml',25,'any') ]\n",
        "\n",
        "new_df = spark.createDataFrame(data, ['gender','name','age','track'])\n",
        "new_df.show()"
      ]
    },
    {
      "cell_type": "markdown",
      "metadata": {
        "id": "opokdC9z08LT"
      },
      "source": [
        "## We're done! Great job!"
      ]
    }
  ],
  "metadata": {
    "kernelspec": {
      "display_name": "Python 3 (ipykernel)",
      "language": "python",
      "name": "python3"
    },
    "language_info": {
      "codemirror_mode": {
        "name": "ipython",
        "version": 3
      },
      "file_extension": ".py",
      "mimetype": "text/x-python",
      "name": "python",
      "nbconvert_exporter": "python",
      "pygments_lexer": "ipython3",
      "version": "3.10.8"
    },
    "colab": {
      "provenance": []
    }
  },
  "nbformat": 4,
  "nbformat_minor": 0
}