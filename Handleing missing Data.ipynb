{
  "cells": [
    {
      "cell_type": "markdown",
      "metadata": {
        "id": "4DRXA-Ef30P6"
      },
      "source": [
        "# Handling Missing Data in PySpark HW Solutions\n",
        "\n",
        "In this HW assignment you will be strengthening your skill sets dealing with missing data.\n",
        " \n",
        "**Review:** you have 2 basic options for filling in missing data (you will personally have to make the decision for what is the right approach:\n",
        "\n",
        "1. Drop the missing data points (including the entire row)\n",
        "2. Fill them in with some other value.\n",
        "\n",
        "Let's practice some examples of each of these methods!\n",
        "\n",
        "\n",
        "#### But first!\n",
        "\n",
        "Start your Spark session"
      ]
    },
    {
      "cell_type": "code",
      "execution_count": null,
      "metadata": {
        "colab": {
          "base_uri": "https://localhost:8080/",
          "height": 480
        },
        "id": "P3rqjfrL30P_",
        "outputId": "1a8e5f2f-61af-49d2-e315-79a65c670112"
      },
      "outputs": [
        {
          "output_type": "stream",
          "name": "stdout",
          "text": [
            "Looking in indexes: https://pypi.org/simple, https://us-python.pkg.dev/colab-wheels/public/simple/\n",
            "Collecting pyspark\n",
            "  Downloading pyspark-3.3.2.tar.gz (281.4 MB)\n",
            "\u001b[2K     \u001b[90m━━━━━━━━━━━━━━━━━━━━━━━━━━━━━━━━━━━━━━━\u001b[0m \u001b[32m281.4/281.4 MB\u001b[0m \u001b[31m4.2 MB/s\u001b[0m eta \u001b[36m0:00:00\u001b[0m\n",
            "\u001b[?25h  Preparing metadata (setup.py) ... \u001b[?25l\u001b[?25hdone\n",
            "Collecting py4j==0.10.9.5\n",
            "  Downloading py4j-0.10.9.5-py2.py3-none-any.whl (199 kB)\n",
            "\u001b[2K     \u001b[90m━━━━━━━━━━━━━━━━━━━━━━━━━━━━━━━━━━━━━━\u001b[0m \u001b[32m199.7/199.7 KB\u001b[0m \u001b[31m17.5 MB/s\u001b[0m eta \u001b[36m0:00:00\u001b[0m\n",
            "\u001b[?25hBuilding wheels for collected packages: pyspark\n",
            "  Building wheel for pyspark (setup.py) ... \u001b[?25l\u001b[?25hdone\n",
            "  Created wheel for pyspark: filename=pyspark-3.3.2-py2.py3-none-any.whl size=281824025 sha256=07b6005968e3e8772c957437958465e2e6393835426f33145f19f417dd57d2b1\n",
            "  Stored in directory: /root/.cache/pip/wheels/b1/59/a0/a1a0624b5e865fd389919c1a10f53aec9b12195d6747710baf\n",
            "Successfully built pyspark\n",
            "Installing collected packages: py4j, pyspark\n",
            "Successfully installed py4j-0.10.9.5 pyspark-3.3.2\n"
          ]
        },
        {
          "output_type": "execute_result",
          "data": {
            "text/plain": [
              "<pyspark.sql.session.SparkSession at 0x7f15b7fbee80>"
            ],
            "text/html": [
              "\n",
              "            <div>\n",
              "                <p><b>SparkSession - in-memory</b></p>\n",
              "                \n",
              "        <div>\n",
              "            <p><b>SparkContext</b></p>\n",
              "\n",
              "            <p><a href=\"http://439474d31b4d:4040\">Spark UI</a></p>\n",
              "\n",
              "            <dl>\n",
              "              <dt>Version</dt>\n",
              "                <dd><code>v3.3.2</code></dd>\n",
              "              <dt>Master</dt>\n",
              "                <dd><code>local[*]</code></dd>\n",
              "              <dt>AppName</dt>\n",
              "                <dd><code>nulls</code></dd>\n",
              "            </dl>\n",
              "        </div>\n",
              "        \n",
              "            </div>\n",
              "        "
            ]
          },
          "metadata": {},
          "execution_count": 1
        }
      ],
      "source": [
        "!pip install pyspark\n",
        "import pyspark \n",
        "from pyspark.sql import SparkSession\n",
        "\n",
        "spark = SparkSession.builder.appName(\"nulls\").getOrCreate()\n",
        "\n",
        "spark"
      ]
    },
    {
      "cell_type": "code",
      "execution_count": null,
      "metadata": {
        "id": "4gvTSPuN4hUV",
        "colab": {
          "base_uri": "https://localhost:8080/"
        },
        "outputId": "0c2f378e-4f5a-451a-900e-381a2eb03341"
      },
      "outputs": [
        {
          "output_type": "stream",
          "name": "stdout",
          "text": [
            "Mounted at /content/drive\n"
          ]
        }
      ],
      "source": [
        "from google.colab import drive\n",
        "drive.mount('/content/drive')"
      ]
    },
    {
      "cell_type": "code",
      "execution_count": null,
      "metadata": {
        "id": "KVdpvOVb4jHx"
      },
      "outputs": [],
      "source": [
        "path = 'drive/MyDrive/5. Spark/spark-scripts/section2/Datasets/'"
      ]
    },
    {
      "cell_type": "markdown",
      "metadata": {
        "id": "QUSHVYev30QD"
      },
      "source": [
        "## Read in the dataset for this Notebook\n",
        "\n",
        "Weather.csv attached to this lecture. "
      ]
    },
    {
      "cell_type": "code",
      "execution_count": null,
      "metadata": {
        "id": "iNHyb2v_30QE"
      },
      "outputs": [],
      "source": [
        "df = spark.read.csv(path+'Weather.csv', inferSchema = True, header = True)"
      ]
    },
    {
      "cell_type": "markdown",
      "metadata": {
        "id": "h8tN5dve30QE"
      },
      "source": [
        "## About this dataset\n",
        "\n",
        "**New York City Taxi Trip - Hourly Weather Data**\n",
        "\n",
        "Here is some detailed weather data for the New York City Taxi Trips.\n",
        "\n",
        "**Source:** https://www.kaggle.com/meinertsen/new-york-city-taxi-trip-hourly-weather-data"
      ]
    },
    {
      "cell_type": "markdown",
      "metadata": {
        "id": "-SAPWpUT30QF"
      },
      "source": [
        "### Print a view of the first several lines of the dataframe to see what our data looks like"
      ]
    },
    {
      "cell_type": "code",
      "execution_count": null,
      "metadata": {
        "id": "Knc7ZOkS30QF"
      },
      "outputs": [],
      "source": [
        "import pandas as pd\n",
        "pd.set_option('display.max_columns',None)\n",
        "pd.set_option('display.max_colwidth',None)\n",
        "pd.set_option('display.max_rows',None)"
      ]
    },
    {
      "cell_type": "markdown",
      "metadata": {
        "id": "UX9LLks930QG"
      },
      "source": [
        "### Print the schema \n",
        "\n",
        "So that we can see if we need to make any corrections to the data types."
      ]
    },
    {
      "cell_type": "code",
      "execution_count": null,
      "metadata": {
        "id": "BqB2oL0N30QG",
        "colab": {
          "base_uri": "https://localhost:8080/"
        },
        "outputId": "085d546c-9041-4d73-f0b3-6d08b8affd34"
      },
      "outputs": [
        {
          "output_type": "stream",
          "name": "stdout",
          "text": [
            "root\n",
            " |-- pickup_datetime: timestamp (nullable = true)\n",
            " |-- tempm: double (nullable = true)\n",
            " |-- tempi: double (nullable = true)\n",
            " |-- dewptm: double (nullable = true)\n",
            " |-- dewpti: double (nullable = true)\n",
            " |-- hum: double (nullable = true)\n",
            " |-- wspdm: double (nullable = true)\n",
            " |-- wspdi: double (nullable = true)\n",
            " |-- wgustm: double (nullable = true)\n",
            " |-- wgusti: double (nullable = true)\n",
            " |-- wdird: integer (nullable = true)\n",
            " |-- wdire: string (nullable = true)\n",
            " |-- vism: double (nullable = true)\n",
            " |-- visi: double (nullable = true)\n",
            " |-- pressurem: double (nullable = true)\n",
            " |-- pressurei: double (nullable = true)\n",
            " |-- windchillm: double (nullable = true)\n",
            " |-- windchilli: double (nullable = true)\n",
            " |-- heatindexm: double (nullable = true)\n",
            " |-- heatindexi: double (nullable = true)\n",
            " |-- precipm: double (nullable = true)\n",
            " |-- precipi: double (nullable = true)\n",
            " |-- conds: string (nullable = true)\n",
            " |-- icon: string (nullable = true)\n",
            " |-- fog: integer (nullable = true)\n",
            " |-- rain: integer (nullable = true)\n",
            " |-- snow: integer (nullable = true)\n",
            " |-- hail: integer (nullable = true)\n",
            " |-- thunder: integer (nullable = true)\n",
            " |-- tornado: integer (nullable = true)\n",
            "\n"
          ]
        }
      ],
      "source": [
        "df.printSchema()"
      ]
    },
    {
      "cell_type": "markdown",
      "metadata": {
        "id": "7jSE8tAX30QH"
      },
      "source": [
        "## 1. How much missing data are we working with?\n",
        "\n",
        "Get a count and percentage of each variable in the dataset to answer this question."
      ]
    },
    {
      "cell_type": "code",
      "execution_count": null,
      "metadata": {
        "id": "5FKA5sfj30QI",
        "colab": {
          "base_uri": "https://localhost:8080/"
        },
        "outputId": "b1dd23bd-7020-464a-9541-83b4b91bc0c4"
      },
      "outputs": [
        {
          "output_type": "stream",
          "name": "stdout",
          "text": [
            "+-----------+---------------+--------------------+\n",
            "|Column name|Number of nulls| percentage of nulls|\n",
            "+-----------+---------------+--------------------+\n",
            "|      tempm|              5|4.770537162484495...|\n",
            "|      tempi|              5|4.770537162484495...|\n",
            "|     dewptm|              5|4.770537162484495...|\n",
            "|     dewpti|              5|4.770537162484495...|\n",
            "|        hum|              5|4.770537162484495...|\n",
            "|      wspdm|            737| 0.07031771777502147|\n",
            "|      wspdi|            737| 0.07031771777502147|\n",
            "|     wgustm|           8605|  0.8210094456635817|\n",
            "|     wgusti|           8605|  0.8210094456635817|\n",
            "|       vism|            245| 0.02337563209617403|\n",
            "|       visi|            245| 0.02337563209617403|\n",
            "|  pressurem|            239| 0.02280316763667589|\n",
            "|  pressurei|            239| 0.02280316763667589|\n",
            "| windchillm|           7775|  0.7418185287663391|\n",
            "| windchilli|           7775|  0.7418185287663391|\n",
            "| heatindexm|           9644|  0.9201412079000095|\n",
            "| heatindexi|           9644|  0.9201412079000095|\n",
            "|    precipm|           8775|   0.837229272016029|\n",
            "|    precipi|           8775|   0.837229272016029|\n",
            "+-----------+---------------+--------------------+\n",
            "\n"
          ]
        }
      ],
      "source": [
        "from pyspark.sql.functions import *\n",
        "import numpy as np\n",
        "analysis = []\n",
        "for column in df.columns:\n",
        "  if df.where(col(column).isNull()).count() == 0:\n",
        "    continue\n",
        "  row = column,\\\n",
        "        df.where(col(column).isNull()).count(), \\\n",
        "        df.where(col(column).isNull()).count()/df.count()\n",
        "  analysis.append(row)\n",
        "\n",
        "null_analysis_df = spark.createDataFrame(analysis, ['Column name', 'Number of nulls', 'percentage of nulls'])\n",
        "null_analysis_df.show()"
      ]
    },
    {
      "cell_type": "markdown",
      "metadata": {
        "id": "F94LpmbP30QI"
      },
      "source": [
        "## 2. How many rows contain at least one null value?\n",
        "\n",
        "We want to know, if we use the df.na option, how many rows will we loose. "
      ]
    },
    {
      "cell_type": "code",
      "source": [
        "before = df.count()\n",
        "after = df.na.drop(thresh = len(df.columns)).count()\n",
        "print(\"Number of rows containing at least one null value: \", before - after)"
      ],
      "metadata": {
        "id": "3XCgmtRf30QJ",
        "colab": {
          "base_uri": "https://localhost:8080/"
        },
        "outputId": "2b0d40ef-991c-4b6f-979a-6693cb1e5066"
      },
      "execution_count": null,
      "outputs": [
        {
          "output_type": "stream",
          "name": "stdout",
          "text": [
            "Number of rows containing at least one null value:  10481\n"
          ]
        }
      ]
    },
    {
      "cell_type": "markdown",
      "metadata": {
        "id": "0jj66yjD30QK"
      },
      "source": [
        "## 3. Drop the missing data\n",
        "\n",
        "Drop any row that contains missing data across the whole dataset"
      ]
    },
    {
      "cell_type": "code",
      "execution_count": null,
      "metadata": {
        "id": "w-3eC98130QK",
        "colab": {
          "base_uri": "https://localhost:8080/"
        },
        "outputId": "3e48d7d9-ccf9-4004-f7a7-64bea7a87e14"
      },
      "outputs": [
        {
          "output_type": "stream",
          "name": "stdout",
          "text": [
            "Number of rows in original data:  10481\n",
            "Dropped null rows:  10481\n"
          ]
        }
      ],
      "source": [
        "before = df.count()\n",
        "new_df = df.na.drop(how = 'any')\n",
        "print('Number of rows in original data: ',df.count())\n",
        "print('Dropped null rows: ',before - new_df.count())"
      ]
    },
    {
      "cell_type": "markdown",
      "metadata": {
        "id": "GUiG_j8930QL"
      },
      "source": [
        "## 4. Drop with a threshold\n",
        "\n",
        "Count how many rows would be dropped if we only dropped rows that had a least 12 NON-Null values"
      ]
    },
    {
      "cell_type": "code",
      "execution_count": null,
      "metadata": {
        "id": "BxGq0_5y30QL",
        "colab": {
          "base_uri": "https://localhost:8080/"
        },
        "outputId": "95ec363e-febf-4de3-91a9-1f4ea607ace3"
      },
      "outputs": [
        {
          "output_type": "stream",
          "name": "stdout",
          "text": [
            "After dropping rows with less than 12 non-null values\n",
            "Number of rows in original data:  10481\n",
            "Dropped null rows:  5\n"
          ]
        }
      ],
      "source": [
        "new_df = df.na.drop(thresh = 12)                 \n",
        "print('After dropping rows with less than 12 non-null values')\n",
        "print('Number of rows in original data: ',df.count())\n",
        "print('Dropped null rows: ',df.count()-new_df.count())"
      ]
    },
    {
      "cell_type": "markdown",
      "metadata": {
        "id": "My_5bZIK30QL"
      },
      "source": [
        "## 5. Drop rows according to specific column value\n",
        "\n",
        "Now count how many rows would be dropped if you only drop rows whose values in the tempm column are null/NaN"
      ]
    },
    {
      "cell_type": "code",
      "execution_count": null,
      "metadata": {
        "id": "1qV1SLKE30QM",
        "colab": {
          "base_uri": "https://localhost:8080/"
        },
        "outputId": "402e74da-7472-463d-ea33-35aa1607f148"
      },
      "outputs": [
        {
          "output_type": "stream",
          "name": "stdout",
          "text": [
            "Number of rows in original data:  10481\n",
            "Dropped null rows:  5\n"
          ]
        }
      ],
      "source": [
        "new_df = df.na.drop(subset = ['tempm'])\n",
        "print('Number of rows in original data: ',df.count())\n",
        "print('Dropped null rows: ',df.count()-new_df.count())"
      ]
    },
    {
      "cell_type": "markdown",
      "metadata": {
        "id": "zvJTH9l030QM"
      },
      "source": [
        "## 6. Drop rows that are null accross all columns\n",
        "\n",
        "Count how many rows would be dropped if you only dropped rows where ALL the values are null"
      ]
    },
    {
      "cell_type": "code",
      "execution_count": null,
      "metadata": {
        "id": "Ogus5Up230QO",
        "colab": {
          "base_uri": "https://localhost:8080/"
        },
        "outputId": "f6b7bedd-cf5f-4a80-a160-bfc58207dffc"
      },
      "outputs": [
        {
          "output_type": "stream",
          "name": "stdout",
          "text": [
            "Number of rows in original data:  10481\n",
            "Dropped null rows:  0\n"
          ]
        }
      ],
      "source": [
        "new_df = df.na.drop(how = 'all')\n",
        "print('Number of rows in original data: ',df.count())\n",
        "print('Dropped null rows: ',df.count()-new_df.count())"
      ]
    },
    {
      "cell_type": "markdown",
      "metadata": {
        "id": "U-2aU1r930QO"
      },
      "source": [
        "## 7. Fill in all the string columns missing values with the word \"N/A\"\n",
        "\n",
        "Make sure you don't edit the df dataframe itself. Create a copy of the df then edit that one."
      ]
    },
    {
      "cell_type": "code",
      "execution_count": null,
      "metadata": {
        "id": "agpdI0ia30QP",
        "colab": {
          "base_uri": "https://localhost:8080/",
          "height": 357
        },
        "outputId": "2c67d994-2d1a-4d0a-d117-84098f855dae"
      },
      "outputs": [
        {
          "output_type": "execute_result",
          "data": {
            "text/plain": [
              "      pickup_datetime  tempm  tempi  dewptm  dewpti   hum  wspdm  wspdi  \\\n",
              "0 2015-12-31 00:15:00    7.8   46.0     6.1    43.0  89.0    7.4    4.6   \n",
              "1 2015-12-31 00:42:00    7.8   46.0     6.1    43.0  89.0    7.4    4.6   \n",
              "2 2015-12-31 00:51:00    7.8   46.0     6.1    43.0  89.0    5.6    3.5   \n",
              "3 2015-12-31 01:51:00    7.2   45.0     5.6    42.1  90.0    7.4    4.6   \n",
              "4 2015-12-31 02:51:00    7.2   45.0     5.6    42.1  90.0    0.0    0.0   \n",
              "\n",
              "   wgustm  wgusti  wdird     wdire  vism  visi  pressurem  pressurei  \\\n",
              "0     NaN     NaN     40        NE   4.0   2.5     1018.2      30.07   \n",
              "1     NaN     NaN      0  Variable   6.4   4.0     1017.8      30.06   \n",
              "2     NaN     NaN     20       NNE   8.0   5.0     1017.0      30.04   \n",
              "3     NaN     NaN      0  Variable  12.9   8.0     1016.5      30.02   \n",
              "4     NaN     NaN      0     North  12.9   8.0     1016.7      30.03   \n",
              "\n",
              "   windchillm  windchilli  heatindexm  heatindexi  precipm  precipi  \\\n",
              "0         6.6        43.9         NaN         NaN      0.5     0.02   \n",
              "1         6.6        43.9         NaN         NaN      0.8     0.03   \n",
              "2         7.1        44.8         NaN         NaN      0.8     0.03   \n",
              "3         5.9        42.6         NaN         NaN      0.3     0.01   \n",
              "4         NaN         NaN         NaN         NaN      NaN      NaN   \n",
              "\n",
              "        conds    icon  fog  rain  snow  hail  thunder  tornado  \n",
              "0  Light Rain    rain    0     1     0     0        0        0  \n",
              "1    Overcast  cloudy    0     0     0     0        0        0  \n",
              "2    Overcast  cloudy    0     0     0     0        0        0  \n",
              "3    Overcast  cloudy    0     0     0     0        0        0  \n",
              "4    Overcast  cloudy    0     0     0     0        0        0  "
            ],
            "text/html": [
              "\n",
              "  <div id=\"df-48dad4fb-8fc9-408a-b6a7-8447fde99857\">\n",
              "    <div class=\"colab-df-container\">\n",
              "      <div>\n",
              "<style scoped>\n",
              "    .dataframe tbody tr th:only-of-type {\n",
              "        vertical-align: middle;\n",
              "    }\n",
              "\n",
              "    .dataframe tbody tr th {\n",
              "        vertical-align: top;\n",
              "    }\n",
              "\n",
              "    .dataframe thead th {\n",
              "        text-align: right;\n",
              "    }\n",
              "</style>\n",
              "<table border=\"1\" class=\"dataframe\">\n",
              "  <thead>\n",
              "    <tr style=\"text-align: right;\">\n",
              "      <th></th>\n",
              "      <th>pickup_datetime</th>\n",
              "      <th>tempm</th>\n",
              "      <th>tempi</th>\n",
              "      <th>dewptm</th>\n",
              "      <th>dewpti</th>\n",
              "      <th>hum</th>\n",
              "      <th>wspdm</th>\n",
              "      <th>wspdi</th>\n",
              "      <th>wgustm</th>\n",
              "      <th>wgusti</th>\n",
              "      <th>wdird</th>\n",
              "      <th>wdire</th>\n",
              "      <th>vism</th>\n",
              "      <th>visi</th>\n",
              "      <th>pressurem</th>\n",
              "      <th>pressurei</th>\n",
              "      <th>windchillm</th>\n",
              "      <th>windchilli</th>\n",
              "      <th>heatindexm</th>\n",
              "      <th>heatindexi</th>\n",
              "      <th>precipm</th>\n",
              "      <th>precipi</th>\n",
              "      <th>conds</th>\n",
              "      <th>icon</th>\n",
              "      <th>fog</th>\n",
              "      <th>rain</th>\n",
              "      <th>snow</th>\n",
              "      <th>hail</th>\n",
              "      <th>thunder</th>\n",
              "      <th>tornado</th>\n",
              "    </tr>\n",
              "  </thead>\n",
              "  <tbody>\n",
              "    <tr>\n",
              "      <th>0</th>\n",
              "      <td>2015-12-31 00:15:00</td>\n",
              "      <td>7.8</td>\n",
              "      <td>46.0</td>\n",
              "      <td>6.1</td>\n",
              "      <td>43.0</td>\n",
              "      <td>89.0</td>\n",
              "      <td>7.4</td>\n",
              "      <td>4.6</td>\n",
              "      <td>NaN</td>\n",
              "      <td>NaN</td>\n",
              "      <td>40</td>\n",
              "      <td>NE</td>\n",
              "      <td>4.0</td>\n",
              "      <td>2.5</td>\n",
              "      <td>1018.2</td>\n",
              "      <td>30.07</td>\n",
              "      <td>6.6</td>\n",
              "      <td>43.9</td>\n",
              "      <td>NaN</td>\n",
              "      <td>NaN</td>\n",
              "      <td>0.5</td>\n",
              "      <td>0.02</td>\n",
              "      <td>Light Rain</td>\n",
              "      <td>rain</td>\n",
              "      <td>0</td>\n",
              "      <td>1</td>\n",
              "      <td>0</td>\n",
              "      <td>0</td>\n",
              "      <td>0</td>\n",
              "      <td>0</td>\n",
              "    </tr>\n",
              "    <tr>\n",
              "      <th>1</th>\n",
              "      <td>2015-12-31 00:42:00</td>\n",
              "      <td>7.8</td>\n",
              "      <td>46.0</td>\n",
              "      <td>6.1</td>\n",
              "      <td>43.0</td>\n",
              "      <td>89.0</td>\n",
              "      <td>7.4</td>\n",
              "      <td>4.6</td>\n",
              "      <td>NaN</td>\n",
              "      <td>NaN</td>\n",
              "      <td>0</td>\n",
              "      <td>Variable</td>\n",
              "      <td>6.4</td>\n",
              "      <td>4.0</td>\n",
              "      <td>1017.8</td>\n",
              "      <td>30.06</td>\n",
              "      <td>6.6</td>\n",
              "      <td>43.9</td>\n",
              "      <td>NaN</td>\n",
              "      <td>NaN</td>\n",
              "      <td>0.8</td>\n",
              "      <td>0.03</td>\n",
              "      <td>Overcast</td>\n",
              "      <td>cloudy</td>\n",
              "      <td>0</td>\n",
              "      <td>0</td>\n",
              "      <td>0</td>\n",
              "      <td>0</td>\n",
              "      <td>0</td>\n",
              "      <td>0</td>\n",
              "    </tr>\n",
              "    <tr>\n",
              "      <th>2</th>\n",
              "      <td>2015-12-31 00:51:00</td>\n",
              "      <td>7.8</td>\n",
              "      <td>46.0</td>\n",
              "      <td>6.1</td>\n",
              "      <td>43.0</td>\n",
              "      <td>89.0</td>\n",
              "      <td>5.6</td>\n",
              "      <td>3.5</td>\n",
              "      <td>NaN</td>\n",
              "      <td>NaN</td>\n",
              "      <td>20</td>\n",
              "      <td>NNE</td>\n",
              "      <td>8.0</td>\n",
              "      <td>5.0</td>\n",
              "      <td>1017.0</td>\n",
              "      <td>30.04</td>\n",
              "      <td>7.1</td>\n",
              "      <td>44.8</td>\n",
              "      <td>NaN</td>\n",
              "      <td>NaN</td>\n",
              "      <td>0.8</td>\n",
              "      <td>0.03</td>\n",
              "      <td>Overcast</td>\n",
              "      <td>cloudy</td>\n",
              "      <td>0</td>\n",
              "      <td>0</td>\n",
              "      <td>0</td>\n",
              "      <td>0</td>\n",
              "      <td>0</td>\n",
              "      <td>0</td>\n",
              "    </tr>\n",
              "    <tr>\n",
              "      <th>3</th>\n",
              "      <td>2015-12-31 01:51:00</td>\n",
              "      <td>7.2</td>\n",
              "      <td>45.0</td>\n",
              "      <td>5.6</td>\n",
              "      <td>42.1</td>\n",
              "      <td>90.0</td>\n",
              "      <td>7.4</td>\n",
              "      <td>4.6</td>\n",
              "      <td>NaN</td>\n",
              "      <td>NaN</td>\n",
              "      <td>0</td>\n",
              "      <td>Variable</td>\n",
              "      <td>12.9</td>\n",
              "      <td>8.0</td>\n",
              "      <td>1016.5</td>\n",
              "      <td>30.02</td>\n",
              "      <td>5.9</td>\n",
              "      <td>42.6</td>\n",
              "      <td>NaN</td>\n",
              "      <td>NaN</td>\n",
              "      <td>0.3</td>\n",
              "      <td>0.01</td>\n",
              "      <td>Overcast</td>\n",
              "      <td>cloudy</td>\n",
              "      <td>0</td>\n",
              "      <td>0</td>\n",
              "      <td>0</td>\n",
              "      <td>0</td>\n",
              "      <td>0</td>\n",
              "      <td>0</td>\n",
              "    </tr>\n",
              "    <tr>\n",
              "      <th>4</th>\n",
              "      <td>2015-12-31 02:51:00</td>\n",
              "      <td>7.2</td>\n",
              "      <td>45.0</td>\n",
              "      <td>5.6</td>\n",
              "      <td>42.1</td>\n",
              "      <td>90.0</td>\n",
              "      <td>0.0</td>\n",
              "      <td>0.0</td>\n",
              "      <td>NaN</td>\n",
              "      <td>NaN</td>\n",
              "      <td>0</td>\n",
              "      <td>North</td>\n",
              "      <td>12.9</td>\n",
              "      <td>8.0</td>\n",
              "      <td>1016.7</td>\n",
              "      <td>30.03</td>\n",
              "      <td>NaN</td>\n",
              "      <td>NaN</td>\n",
              "      <td>NaN</td>\n",
              "      <td>NaN</td>\n",
              "      <td>NaN</td>\n",
              "      <td>NaN</td>\n",
              "      <td>Overcast</td>\n",
              "      <td>cloudy</td>\n",
              "      <td>0</td>\n",
              "      <td>0</td>\n",
              "      <td>0</td>\n",
              "      <td>0</td>\n",
              "      <td>0</td>\n",
              "      <td>0</td>\n",
              "    </tr>\n",
              "  </tbody>\n",
              "</table>\n",
              "</div>\n",
              "      <button class=\"colab-df-convert\" onclick=\"convertToInteractive('df-48dad4fb-8fc9-408a-b6a7-8447fde99857')\"\n",
              "              title=\"Convert this dataframe to an interactive table.\"\n",
              "              style=\"display:none;\">\n",
              "        \n",
              "  <svg xmlns=\"http://www.w3.org/2000/svg\" height=\"24px\"viewBox=\"0 0 24 24\"\n",
              "       width=\"24px\">\n",
              "    <path d=\"M0 0h24v24H0V0z\" fill=\"none\"/>\n",
              "    <path d=\"M18.56 5.44l.94 2.06.94-2.06 2.06-.94-2.06-.94-.94-2.06-.94 2.06-2.06.94zm-11 1L8.5 8.5l.94-2.06 2.06-.94-2.06-.94L8.5 2.5l-.94 2.06-2.06.94zm10 10l.94 2.06.94-2.06 2.06-.94-2.06-.94-.94-2.06-.94 2.06-2.06.94z\"/><path d=\"M17.41 7.96l-1.37-1.37c-.4-.4-.92-.59-1.43-.59-.52 0-1.04.2-1.43.59L10.3 9.45l-7.72 7.72c-.78.78-.78 2.05 0 2.83L4 21.41c.39.39.9.59 1.41.59.51 0 1.02-.2 1.41-.59l7.78-7.78 2.81-2.81c.8-.78.8-2.07 0-2.86zM5.41 20L4 18.59l7.72-7.72 1.47 1.35L5.41 20z\"/>\n",
              "  </svg>\n",
              "      </button>\n",
              "      \n",
              "  <style>\n",
              "    .colab-df-container {\n",
              "      display:flex;\n",
              "      flex-wrap:wrap;\n",
              "      gap: 12px;\n",
              "    }\n",
              "\n",
              "    .colab-df-convert {\n",
              "      background-color: #E8F0FE;\n",
              "      border: none;\n",
              "      border-radius: 50%;\n",
              "      cursor: pointer;\n",
              "      display: none;\n",
              "      fill: #1967D2;\n",
              "      height: 32px;\n",
              "      padding: 0 0 0 0;\n",
              "      width: 32px;\n",
              "    }\n",
              "\n",
              "    .colab-df-convert:hover {\n",
              "      background-color: #E2EBFA;\n",
              "      box-shadow: 0px 1px 2px rgba(60, 64, 67, 0.3), 0px 1px 3px 1px rgba(60, 64, 67, 0.15);\n",
              "      fill: #174EA6;\n",
              "    }\n",
              "\n",
              "    [theme=dark] .colab-df-convert {\n",
              "      background-color: #3B4455;\n",
              "      fill: #D2E3FC;\n",
              "    }\n",
              "\n",
              "    [theme=dark] .colab-df-convert:hover {\n",
              "      background-color: #434B5C;\n",
              "      box-shadow: 0px 1px 3px 1px rgba(0, 0, 0, 0.15);\n",
              "      filter: drop-shadow(0px 1px 2px rgba(0, 0, 0, 0.3));\n",
              "      fill: #FFFFFF;\n",
              "    }\n",
              "  </style>\n",
              "\n",
              "      <script>\n",
              "        const buttonEl =\n",
              "          document.querySelector('#df-48dad4fb-8fc9-408a-b6a7-8447fde99857 button.colab-df-convert');\n",
              "        buttonEl.style.display =\n",
              "          google.colab.kernel.accessAllowed ? 'block' : 'none';\n",
              "\n",
              "        async function convertToInteractive(key) {\n",
              "          const element = document.querySelector('#df-48dad4fb-8fc9-408a-b6a7-8447fde99857');\n",
              "          const dataTable =\n",
              "            await google.colab.kernel.invokeFunction('convertToInteractive',\n",
              "                                                     [key], {});\n",
              "          if (!dataTable) return;\n",
              "\n",
              "          const docLinkHtml = 'Like what you see? Visit the ' +\n",
              "            '<a target=\"_blank\" href=https://colab.research.google.com/notebooks/data_table.ipynb>data table notebook</a>'\n",
              "            + ' to learn more about interactive tables.';\n",
              "          element.innerHTML = '';\n",
              "          dataTable['output_type'] = 'display_data';\n",
              "          await google.colab.output.renderOutput(dataTable, element);\n",
              "          const docLink = document.createElement('div');\n",
              "          docLink.innerHTML = docLinkHtml;\n",
              "          element.appendChild(docLink);\n",
              "        }\n",
              "      </script>\n",
              "    </div>\n",
              "  </div>\n",
              "  "
            ]
          },
          "metadata": {},
          "execution_count": 23
        }
      ],
      "source": [
        "data = df\n",
        "data.na.fill('N/A').limit(5).toPandas()"
      ]
    },
    {
      "cell_type": "markdown",
      "metadata": {
        "id": "t0V2eUEc30QP"
      },
      "source": [
        "## 8. Fill in NaN values with averages for the tempm and tempi columns\n",
        "\n",
        "*Note: you will first need to compute the averages for each column and then fill in with the corresponding value.*"
      ]
    },
    {
      "cell_type": "code",
      "execution_count": null,
      "metadata": {
        "id": "NfvUhjdW30QU",
        "colab": {
          "base_uri": "https://localhost:8080/",
          "height": 374
        },
        "outputId": "ded703d1-c4da-46e2-ad6a-0f86accef6bd"
      },
      "outputs": [
        {
          "output_type": "stream",
          "name": "stdout",
          "text": [
            "DataFrame[tempm: double, tempi: double]\n"
          ]
        },
        {
          "output_type": "execute_result",
          "data": {
            "text/plain": [
              "      pickup_datetime  tempm  tempi  dewptm  dewpti   hum  wspdm  wspdi  \\\n",
              "0 2015-12-31 00:15:00    7.8   46.0     6.1    43.0  89.0    7.4    4.6   \n",
              "1 2015-12-31 00:42:00    7.8   46.0     6.1    43.0  89.0    7.4    4.6   \n",
              "2 2015-12-31 00:51:00    7.8   46.0     6.1    43.0  89.0    5.6    3.5   \n",
              "3 2015-12-31 01:51:00    7.2   45.0     5.6    42.1  90.0    7.4    4.6   \n",
              "4 2015-12-31 02:51:00    7.2   45.0     5.6    42.1  90.0    0.0    0.0   \n",
              "\n",
              "   wgustm  wgusti  wdird     wdire  vism  visi  pressurem  pressurei  \\\n",
              "0     NaN     NaN     40        NE   4.0   2.5     1018.2      30.07   \n",
              "1     NaN     NaN      0  Variable   6.4   4.0     1017.8      30.06   \n",
              "2     NaN     NaN     20       NNE   8.0   5.0     1017.0      30.04   \n",
              "3     NaN     NaN      0  Variable  12.9   8.0     1016.5      30.02   \n",
              "4     NaN     NaN      0     North  12.9   8.0     1016.7      30.03   \n",
              "\n",
              "   windchillm  windchilli  heatindexm  heatindexi  precipm  precipi  \\\n",
              "0         6.6        43.9         NaN         NaN      0.5     0.02   \n",
              "1         6.6        43.9         NaN         NaN      0.8     0.03   \n",
              "2         7.1        44.8         NaN         NaN      0.8     0.03   \n",
              "3         5.9        42.6         NaN         NaN      0.3     0.01   \n",
              "4         NaN         NaN         NaN         NaN      NaN      NaN   \n",
              "\n",
              "        conds    icon  fog  rain  snow  hail  thunder  tornado  \n",
              "0  Light Rain    rain    0     1     0     0        0        0  \n",
              "1    Overcast  cloudy    0     0     0     0        0        0  \n",
              "2    Overcast  cloudy    0     0     0     0        0        0  \n",
              "3    Overcast  cloudy    0     0     0     0        0        0  \n",
              "4    Overcast  cloudy    0     0     0     0        0        0  "
            ],
            "text/html": [
              "\n",
              "  <div id=\"df-67036c09-00c9-4a3d-9688-37a21cfbfd34\">\n",
              "    <div class=\"colab-df-container\">\n",
              "      <div>\n",
              "<style scoped>\n",
              "    .dataframe tbody tr th:only-of-type {\n",
              "        vertical-align: middle;\n",
              "    }\n",
              "\n",
              "    .dataframe tbody tr th {\n",
              "        vertical-align: top;\n",
              "    }\n",
              "\n",
              "    .dataframe thead th {\n",
              "        text-align: right;\n",
              "    }\n",
              "</style>\n",
              "<table border=\"1\" class=\"dataframe\">\n",
              "  <thead>\n",
              "    <tr style=\"text-align: right;\">\n",
              "      <th></th>\n",
              "      <th>pickup_datetime</th>\n",
              "      <th>tempm</th>\n",
              "      <th>tempi</th>\n",
              "      <th>dewptm</th>\n",
              "      <th>dewpti</th>\n",
              "      <th>hum</th>\n",
              "      <th>wspdm</th>\n",
              "      <th>wspdi</th>\n",
              "      <th>wgustm</th>\n",
              "      <th>wgusti</th>\n",
              "      <th>wdird</th>\n",
              "      <th>wdire</th>\n",
              "      <th>vism</th>\n",
              "      <th>visi</th>\n",
              "      <th>pressurem</th>\n",
              "      <th>pressurei</th>\n",
              "      <th>windchillm</th>\n",
              "      <th>windchilli</th>\n",
              "      <th>heatindexm</th>\n",
              "      <th>heatindexi</th>\n",
              "      <th>precipm</th>\n",
              "      <th>precipi</th>\n",
              "      <th>conds</th>\n",
              "      <th>icon</th>\n",
              "      <th>fog</th>\n",
              "      <th>rain</th>\n",
              "      <th>snow</th>\n",
              "      <th>hail</th>\n",
              "      <th>thunder</th>\n",
              "      <th>tornado</th>\n",
              "    </tr>\n",
              "  </thead>\n",
              "  <tbody>\n",
              "    <tr>\n",
              "      <th>0</th>\n",
              "      <td>2015-12-31 00:15:00</td>\n",
              "      <td>7.8</td>\n",
              "      <td>46.0</td>\n",
              "      <td>6.1</td>\n",
              "      <td>43.0</td>\n",
              "      <td>89.0</td>\n",
              "      <td>7.4</td>\n",
              "      <td>4.6</td>\n",
              "      <td>NaN</td>\n",
              "      <td>NaN</td>\n",
              "      <td>40</td>\n",
              "      <td>NE</td>\n",
              "      <td>4.0</td>\n",
              "      <td>2.5</td>\n",
              "      <td>1018.2</td>\n",
              "      <td>30.07</td>\n",
              "      <td>6.6</td>\n",
              "      <td>43.9</td>\n",
              "      <td>NaN</td>\n",
              "      <td>NaN</td>\n",
              "      <td>0.5</td>\n",
              "      <td>0.02</td>\n",
              "      <td>Light Rain</td>\n",
              "      <td>rain</td>\n",
              "      <td>0</td>\n",
              "      <td>1</td>\n",
              "      <td>0</td>\n",
              "      <td>0</td>\n",
              "      <td>0</td>\n",
              "      <td>0</td>\n",
              "    </tr>\n",
              "    <tr>\n",
              "      <th>1</th>\n",
              "      <td>2015-12-31 00:42:00</td>\n",
              "      <td>7.8</td>\n",
              "      <td>46.0</td>\n",
              "      <td>6.1</td>\n",
              "      <td>43.0</td>\n",
              "      <td>89.0</td>\n",
              "      <td>7.4</td>\n",
              "      <td>4.6</td>\n",
              "      <td>NaN</td>\n",
              "      <td>NaN</td>\n",
              "      <td>0</td>\n",
              "      <td>Variable</td>\n",
              "      <td>6.4</td>\n",
              "      <td>4.0</td>\n",
              "      <td>1017.8</td>\n",
              "      <td>30.06</td>\n",
              "      <td>6.6</td>\n",
              "      <td>43.9</td>\n",
              "      <td>NaN</td>\n",
              "      <td>NaN</td>\n",
              "      <td>0.8</td>\n",
              "      <td>0.03</td>\n",
              "      <td>Overcast</td>\n",
              "      <td>cloudy</td>\n",
              "      <td>0</td>\n",
              "      <td>0</td>\n",
              "      <td>0</td>\n",
              "      <td>0</td>\n",
              "      <td>0</td>\n",
              "      <td>0</td>\n",
              "    </tr>\n",
              "    <tr>\n",
              "      <th>2</th>\n",
              "      <td>2015-12-31 00:51:00</td>\n",
              "      <td>7.8</td>\n",
              "      <td>46.0</td>\n",
              "      <td>6.1</td>\n",
              "      <td>43.0</td>\n",
              "      <td>89.0</td>\n",
              "      <td>5.6</td>\n",
              "      <td>3.5</td>\n",
              "      <td>NaN</td>\n",
              "      <td>NaN</td>\n",
              "      <td>20</td>\n",
              "      <td>NNE</td>\n",
              "      <td>8.0</td>\n",
              "      <td>5.0</td>\n",
              "      <td>1017.0</td>\n",
              "      <td>30.04</td>\n",
              "      <td>7.1</td>\n",
              "      <td>44.8</td>\n",
              "      <td>NaN</td>\n",
              "      <td>NaN</td>\n",
              "      <td>0.8</td>\n",
              "      <td>0.03</td>\n",
              "      <td>Overcast</td>\n",
              "      <td>cloudy</td>\n",
              "      <td>0</td>\n",
              "      <td>0</td>\n",
              "      <td>0</td>\n",
              "      <td>0</td>\n",
              "      <td>0</td>\n",
              "      <td>0</td>\n",
              "    </tr>\n",
              "    <tr>\n",
              "      <th>3</th>\n",
              "      <td>2015-12-31 01:51:00</td>\n",
              "      <td>7.2</td>\n",
              "      <td>45.0</td>\n",
              "      <td>5.6</td>\n",
              "      <td>42.1</td>\n",
              "      <td>90.0</td>\n",
              "      <td>7.4</td>\n",
              "      <td>4.6</td>\n",
              "      <td>NaN</td>\n",
              "      <td>NaN</td>\n",
              "      <td>0</td>\n",
              "      <td>Variable</td>\n",
              "      <td>12.9</td>\n",
              "      <td>8.0</td>\n",
              "      <td>1016.5</td>\n",
              "      <td>30.02</td>\n",
              "      <td>5.9</td>\n",
              "      <td>42.6</td>\n",
              "      <td>NaN</td>\n",
              "      <td>NaN</td>\n",
              "      <td>0.3</td>\n",
              "      <td>0.01</td>\n",
              "      <td>Overcast</td>\n",
              "      <td>cloudy</td>\n",
              "      <td>0</td>\n",
              "      <td>0</td>\n",
              "      <td>0</td>\n",
              "      <td>0</td>\n",
              "      <td>0</td>\n",
              "      <td>0</td>\n",
              "    </tr>\n",
              "    <tr>\n",
              "      <th>4</th>\n",
              "      <td>2015-12-31 02:51:00</td>\n",
              "      <td>7.2</td>\n",
              "      <td>45.0</td>\n",
              "      <td>5.6</td>\n",
              "      <td>42.1</td>\n",
              "      <td>90.0</td>\n",
              "      <td>0.0</td>\n",
              "      <td>0.0</td>\n",
              "      <td>NaN</td>\n",
              "      <td>NaN</td>\n",
              "      <td>0</td>\n",
              "      <td>North</td>\n",
              "      <td>12.9</td>\n",
              "      <td>8.0</td>\n",
              "      <td>1016.7</td>\n",
              "      <td>30.03</td>\n",
              "      <td>NaN</td>\n",
              "      <td>NaN</td>\n",
              "      <td>NaN</td>\n",
              "      <td>NaN</td>\n",
              "      <td>NaN</td>\n",
              "      <td>NaN</td>\n",
              "      <td>Overcast</td>\n",
              "      <td>cloudy</td>\n",
              "      <td>0</td>\n",
              "      <td>0</td>\n",
              "      <td>0</td>\n",
              "      <td>0</td>\n",
              "      <td>0</td>\n",
              "      <td>0</td>\n",
              "    </tr>\n",
              "  </tbody>\n",
              "</table>\n",
              "</div>\n",
              "      <button class=\"colab-df-convert\" onclick=\"convertToInteractive('df-67036c09-00c9-4a3d-9688-37a21cfbfd34')\"\n",
              "              title=\"Convert this dataframe to an interactive table.\"\n",
              "              style=\"display:none;\">\n",
              "        \n",
              "  <svg xmlns=\"http://www.w3.org/2000/svg\" height=\"24px\"viewBox=\"0 0 24 24\"\n",
              "       width=\"24px\">\n",
              "    <path d=\"M0 0h24v24H0V0z\" fill=\"none\"/>\n",
              "    <path d=\"M18.56 5.44l.94 2.06.94-2.06 2.06-.94-2.06-.94-.94-2.06-.94 2.06-2.06.94zm-11 1L8.5 8.5l.94-2.06 2.06-.94-2.06-.94L8.5 2.5l-.94 2.06-2.06.94zm10 10l.94 2.06.94-2.06 2.06-.94-2.06-.94-.94-2.06-.94 2.06-2.06.94z\"/><path d=\"M17.41 7.96l-1.37-1.37c-.4-.4-.92-.59-1.43-.59-.52 0-1.04.2-1.43.59L10.3 9.45l-7.72 7.72c-.78.78-.78 2.05 0 2.83L4 21.41c.39.39.9.59 1.41.59.51 0 1.02-.2 1.41-.59l7.78-7.78 2.81-2.81c.8-.78.8-2.07 0-2.86zM5.41 20L4 18.59l7.72-7.72 1.47 1.35L5.41 20z\"/>\n",
              "  </svg>\n",
              "      </button>\n",
              "      \n",
              "  <style>\n",
              "    .colab-df-container {\n",
              "      display:flex;\n",
              "      flex-wrap:wrap;\n",
              "      gap: 12px;\n",
              "    }\n",
              "\n",
              "    .colab-df-convert {\n",
              "      background-color: #E8F0FE;\n",
              "      border: none;\n",
              "      border-radius: 50%;\n",
              "      cursor: pointer;\n",
              "      display: none;\n",
              "      fill: #1967D2;\n",
              "      height: 32px;\n",
              "      padding: 0 0 0 0;\n",
              "      width: 32px;\n",
              "    }\n",
              "\n",
              "    .colab-df-convert:hover {\n",
              "      background-color: #E2EBFA;\n",
              "      box-shadow: 0px 1px 2px rgba(60, 64, 67, 0.3), 0px 1px 3px 1px rgba(60, 64, 67, 0.15);\n",
              "      fill: #174EA6;\n",
              "    }\n",
              "\n",
              "    [theme=dark] .colab-df-convert {\n",
              "      background-color: #3B4455;\n",
              "      fill: #D2E3FC;\n",
              "    }\n",
              "\n",
              "    [theme=dark] .colab-df-convert:hover {\n",
              "      background-color: #434B5C;\n",
              "      box-shadow: 0px 1px 3px 1px rgba(0, 0, 0, 0.15);\n",
              "      filter: drop-shadow(0px 1px 2px rgba(0, 0, 0, 0.3));\n",
              "      fill: #FFFFFF;\n",
              "    }\n",
              "  </style>\n",
              "\n",
              "      <script>\n",
              "        const buttonEl =\n",
              "          document.querySelector('#df-67036c09-00c9-4a3d-9688-37a21cfbfd34 button.colab-df-convert');\n",
              "        buttonEl.style.display =\n",
              "          google.colab.kernel.accessAllowed ? 'block' : 'none';\n",
              "\n",
              "        async function convertToInteractive(key) {\n",
              "          const element = document.querySelector('#df-67036c09-00c9-4a3d-9688-37a21cfbfd34');\n",
              "          const dataTable =\n",
              "            await google.colab.kernel.invokeFunction('convertToInteractive',\n",
              "                                                     [key], {});\n",
              "          if (!dataTable) return;\n",
              "\n",
              "          const docLinkHtml = 'Like what you see? Visit the ' +\n",
              "            '<a target=\"_blank\" href=https://colab.research.google.com/notebooks/data_table.ipynb>data table notebook</a>'\n",
              "            + ' to learn more about interactive tables.';\n",
              "          element.innerHTML = '';\n",
              "          dataTable['output_type'] = 'display_data';\n",
              "          await google.colab.output.renderOutput(dataTable, element);\n",
              "          const docLink = document.createElement('div');\n",
              "          docLink.innerHTML = docLinkHtml;\n",
              "          element.appendChild(docLink);\n",
              "        }\n",
              "      </script>\n",
              "    </div>\n",
              "  </div>\n",
              "  "
            ]
          },
          "metadata": {},
          "execution_count": 24
        }
      ],
      "source": [
        "def fill_with_mean(df, include=set()): \n",
        "    stats = df.agg(*(avg(c).alias(c) for c in df.columns if c in include))\n",
        "    print(stats)\n",
        "    return df.na.fill(stats.first().asDict())\n",
        "\n",
        "data =fill_with_mean(df ,['tempm','tempi'])\n",
        "data.limit(5).toPandas()"
      ]
    },
    {
      "cell_type": "markdown",
      "metadata": {
        "id": "jjVQjBGn30QV"
      },
      "source": [
        "### That's it! Great Job!"
      ]
    }
  ],
  "metadata": {
    "colab": {
      "provenance": []
    },
    "kernelspec": {
      "display_name": "Python 3",
      "language": "python",
      "name": "python3"
    },
    "language_info": {
      "codemirror_mode": {
        "name": "ipython",
        "version": 3
      },
      "file_extension": ".py",
      "mimetype": "text/x-python",
      "name": "python",
      "nbconvert_exporter": "python",
      "pygments_lexer": "ipython3",
      "version": "3.7.4"
    }
  },
  "nbformat": 4,
  "nbformat_minor": 0
}